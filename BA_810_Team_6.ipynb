{
  "cells": [
    {
      "cell_type": "markdown",
      "metadata": {
        "id": "ak0eGaSuexTM"
      },
      "source": [
        "# **Predict the housing price in Washington DC area**\n",
        "\n",
        "Team 6: Shu(Alex) Wang, Nan Dong, Weichu Zou, Fanfei Zhao"
      ]
    },
    {
      "cell_type": "markdown",
      "metadata": {
        "id": "qcD0Ns2BNSb9"
      },
      "source": [
        "# **Table of Contents**\n",
        "Part 1: Problem Definition\n",
        "\n",
        "Part 2: Data Description & preprocessing\n",
        "\n",
        "Part 3: Exploratory Data Analysis\n",
        "\n",
        "Part 4: Data Modelling\n",
        "\n",
        "Part 5: Challenge & Summary\n",
        "\n",
        "Part 6: References\n"
      ]
    },
    {
      "cell_type": "markdown",
      "metadata": {
        "id": "nGLx3uVhfIwo"
      },
      "source": [
        "#**Part 1. Problem Definition**"
      ]
    },
    {
      "cell_type": "markdown",
      "metadata": {
        "id": "j_zqyTiofTMA"
      },
      "source": [
        "Housing price is always a popular topic around the world. While beside the most common use of having a place to live and fulfilling basic needs, people also use real estate as a significant investment means. Thus, in this project, we will predict the house price changes in King County (Washington) under different variables, like the number of bedrooms, the square footage, the house view, etc., and present our results as a reference so that people could have an understanding of what factors would most likely lead to the increase or decrease of house prices. We will use Python as the base language to analyze the dataset by creating distribution graphs and correlation tables, running various regression analysis models, etc. Our goal is to find predictive relationships between variables and house prices in King County based on our analysis."
      ]
    },
    {
      "cell_type": "markdown",
      "metadata": {
        "id": "GjsiDO2xfqq4"
      },
      "source": [
        "#**Part 2. Data Description**"
      ]
    },
    {
      "cell_type": "markdown",
      "metadata": {
        "id": "HURXAfzpfyTK"
      },
      "source": [
        "####**2.1 Import Python Libraries**"
      ]
    },
    {
      "cell_type": "code",
      "execution_count": null,
      "metadata": {
        "id": "j7WsTGH-FF6p"
      },
      "outputs": [],
      "source": [
        "#import packages\n",
        "import pandas as pd\n",
        "import numpy as np\n",
        "import matplotlib.pyplot as plt\n",
        "import seaborn as sns\n",
        "from sklearn.preprocessing import scale\n",
        "from sklearn.linear_model import LinearRegression\n",
        "from sklearn.model_selection import cross_validate\n",
        "from sklearn.metrics import mean_squared_error, r2_score\n",
        "\n",
        "%matplotlib inline\n",
        "plt.style.use('seaborn-white')"
      ]
    },
    {
      "cell_type": "markdown",
      "source": [
        "#### **2.2 Import housing price Dataset**"
      ],
      "metadata": {
        "id": "PpgWZNysG3MV"
      }
    },
    {
      "cell_type": "code",
      "execution_count": null,
      "metadata": {
        "colab": {
          "base_uri": "https://localhost:8080/"
        },
        "id": "_mv_WUA7Wz0a",
        "outputId": "8ef7a82f-8f49-4fe8-d926-dc34692e628c"
      },
      "outputs": [
        {
          "output_type": "stream",
          "name": "stdout",
          "text": [
            "Mounted at /content/drive\n"
          ]
        }
      ],
      "source": [
        "#import dataset\n",
        "from google.colab import drive\n",
        "drive.mount('/content/drive')\n",
        "data_folder = '/content/drive/Shareddrives/BA 810 T6/'\n",
        "house_raw = pd.read_csv(data_folder+'kc_house_data.csv')\n"
      ]
    },
    {
      "cell_type": "code",
      "execution_count": null,
      "metadata": {
        "colab": {
          "base_uri": "https://localhost:8080/",
          "height": 741
        },
        "id": "Mh-1xgdA5INh",
        "outputId": "cc90df1f-e720-41b4-a5a0-629303f2f6d4"
      },
      "outputs": [
        {
          "output_type": "stream",
          "name": "stdout",
          "text": [
            "<class 'pandas.core.frame.DataFrame'>\n",
            "RangeIndex: 21613 entries, 0 to 21612\n",
            "Data columns (total 21 columns):\n",
            " #   Column         Non-Null Count  Dtype  \n",
            "---  ------         --------------  -----  \n",
            " 0   id             21613 non-null  int64  \n",
            " 1   date           21613 non-null  object \n",
            " 2   price          21613 non-null  float64\n",
            " 3   bedrooms       21613 non-null  int64  \n",
            " 4   bathrooms      21613 non-null  float64\n",
            " 5   sqft_living    21613 non-null  int64  \n",
            " 6   sqft_lot       21613 non-null  int64  \n",
            " 7   floors         21613 non-null  float64\n",
            " 8   waterfront     21613 non-null  int64  \n",
            " 9   view           21613 non-null  int64  \n",
            " 10  condition      21613 non-null  int64  \n",
            " 11  grade          21613 non-null  int64  \n",
            " 12  sqft_above     21613 non-null  int64  \n",
            " 13  sqft_basement  21613 non-null  int64  \n",
            " 14  yr_built       21613 non-null  int64  \n",
            " 15  yr_renovated   21613 non-null  int64  \n",
            " 16  zipcode        21613 non-null  int64  \n",
            " 17  lat            21613 non-null  float64\n",
            " 18  long           21613 non-null  float64\n",
            " 19  sqft_living15  21613 non-null  int64  \n",
            " 20  sqft_lot15     21613 non-null  int64  \n",
            "dtypes: float64(5), int64(15), object(1)\n",
            "memory usage: 3.5+ MB\n"
          ]
        },
        {
          "output_type": "execute_result",
          "data": {
            "text/plain": [
              "           id             date     price  bedrooms  bathrooms  sqft_living  \\\n",
              "0  7129300520  20141013T000000  221900.0         3       1.00         1180   \n",
              "1  6414100192  20141209T000000  538000.0         3       2.25         2570   \n",
              "2  5631500400  20150225T000000  180000.0         2       1.00          770   \n",
              "\n",
              "   sqft_lot  floors  waterfront  view  ...  grade  sqft_above  sqft_basement  \\\n",
              "0      5650     1.0           0     0  ...      7        1180              0   \n",
              "1      7242     2.0           0     0  ...      7        2170            400   \n",
              "2     10000     1.0           0     0  ...      6         770              0   \n",
              "\n",
              "   yr_built  yr_renovated  zipcode      lat     long  sqft_living15  \\\n",
              "0      1955             0    98178  47.5112 -122.257           1340   \n",
              "1      1951          1991    98125  47.7210 -122.319           1690   \n",
              "2      1933             0    98028  47.7379 -122.233           2720   \n",
              "\n",
              "   sqft_lot15  \n",
              "0        5650  \n",
              "1        7639  \n",
              "2        8062  \n",
              "\n",
              "[3 rows x 21 columns]"
            ],
            "text/html": [
              "\n",
              "  <div id=\"df-b33d078b-186b-4166-952a-f0e5aaf7576c\">\n",
              "    <div class=\"colab-df-container\">\n",
              "      <div>\n",
              "<style scoped>\n",
              "    .dataframe tbody tr th:only-of-type {\n",
              "        vertical-align: middle;\n",
              "    }\n",
              "\n",
              "    .dataframe tbody tr th {\n",
              "        vertical-align: top;\n",
              "    }\n",
              "\n",
              "    .dataframe thead th {\n",
              "        text-align: right;\n",
              "    }\n",
              "</style>\n",
              "<table border=\"1\" class=\"dataframe\">\n",
              "  <thead>\n",
              "    <tr style=\"text-align: right;\">\n",
              "      <th></th>\n",
              "      <th>id</th>\n",
              "      <th>date</th>\n",
              "      <th>price</th>\n",
              "      <th>bedrooms</th>\n",
              "      <th>bathrooms</th>\n",
              "      <th>sqft_living</th>\n",
              "      <th>sqft_lot</th>\n",
              "      <th>floors</th>\n",
              "      <th>waterfront</th>\n",
              "      <th>view</th>\n",
              "      <th>...</th>\n",
              "      <th>grade</th>\n",
              "      <th>sqft_above</th>\n",
              "      <th>sqft_basement</th>\n",
              "      <th>yr_built</th>\n",
              "      <th>yr_renovated</th>\n",
              "      <th>zipcode</th>\n",
              "      <th>lat</th>\n",
              "      <th>long</th>\n",
              "      <th>sqft_living15</th>\n",
              "      <th>sqft_lot15</th>\n",
              "    </tr>\n",
              "  </thead>\n",
              "  <tbody>\n",
              "    <tr>\n",
              "      <th>0</th>\n",
              "      <td>7129300520</td>\n",
              "      <td>20141013T000000</td>\n",
              "      <td>221900.0</td>\n",
              "      <td>3</td>\n",
              "      <td>1.00</td>\n",
              "      <td>1180</td>\n",
              "      <td>5650</td>\n",
              "      <td>1.0</td>\n",
              "      <td>0</td>\n",
              "      <td>0</td>\n",
              "      <td>...</td>\n",
              "      <td>7</td>\n",
              "      <td>1180</td>\n",
              "      <td>0</td>\n",
              "      <td>1955</td>\n",
              "      <td>0</td>\n",
              "      <td>98178</td>\n",
              "      <td>47.5112</td>\n",
              "      <td>-122.257</td>\n",
              "      <td>1340</td>\n",
              "      <td>5650</td>\n",
              "    </tr>\n",
              "    <tr>\n",
              "      <th>1</th>\n",
              "      <td>6414100192</td>\n",
              "      <td>20141209T000000</td>\n",
              "      <td>538000.0</td>\n",
              "      <td>3</td>\n",
              "      <td>2.25</td>\n",
              "      <td>2570</td>\n",
              "      <td>7242</td>\n",
              "      <td>2.0</td>\n",
              "      <td>0</td>\n",
              "      <td>0</td>\n",
              "      <td>...</td>\n",
              "      <td>7</td>\n",
              "      <td>2170</td>\n",
              "      <td>400</td>\n",
              "      <td>1951</td>\n",
              "      <td>1991</td>\n",
              "      <td>98125</td>\n",
              "      <td>47.7210</td>\n",
              "      <td>-122.319</td>\n",
              "      <td>1690</td>\n",
              "      <td>7639</td>\n",
              "    </tr>\n",
              "    <tr>\n",
              "      <th>2</th>\n",
              "      <td>5631500400</td>\n",
              "      <td>20150225T000000</td>\n",
              "      <td>180000.0</td>\n",
              "      <td>2</td>\n",
              "      <td>1.00</td>\n",
              "      <td>770</td>\n",
              "      <td>10000</td>\n",
              "      <td>1.0</td>\n",
              "      <td>0</td>\n",
              "      <td>0</td>\n",
              "      <td>...</td>\n",
              "      <td>6</td>\n",
              "      <td>770</td>\n",
              "      <td>0</td>\n",
              "      <td>1933</td>\n",
              "      <td>0</td>\n",
              "      <td>98028</td>\n",
              "      <td>47.7379</td>\n",
              "      <td>-122.233</td>\n",
              "      <td>2720</td>\n",
              "      <td>8062</td>\n",
              "    </tr>\n",
              "  </tbody>\n",
              "</table>\n",
              "<p>3 rows × 21 columns</p>\n",
              "</div>\n",
              "      <button class=\"colab-df-convert\" onclick=\"convertToInteractive('df-b33d078b-186b-4166-952a-f0e5aaf7576c')\"\n",
              "              title=\"Convert this dataframe to an interactive table.\"\n",
              "              style=\"display:none;\">\n",
              "        \n",
              "  <svg xmlns=\"http://www.w3.org/2000/svg\" height=\"24px\"viewBox=\"0 0 24 24\"\n",
              "       width=\"24px\">\n",
              "    <path d=\"M0 0h24v24H0V0z\" fill=\"none\"/>\n",
              "    <path d=\"M18.56 5.44l.94 2.06.94-2.06 2.06-.94-2.06-.94-.94-2.06-.94 2.06-2.06.94zm-11 1L8.5 8.5l.94-2.06 2.06-.94-2.06-.94L8.5 2.5l-.94 2.06-2.06.94zm10 10l.94 2.06.94-2.06 2.06-.94-2.06-.94-.94-2.06-.94 2.06-2.06.94z\"/><path d=\"M17.41 7.96l-1.37-1.37c-.4-.4-.92-.59-1.43-.59-.52 0-1.04.2-1.43.59L10.3 9.45l-7.72 7.72c-.78.78-.78 2.05 0 2.83L4 21.41c.39.39.9.59 1.41.59.51 0 1.02-.2 1.41-.59l7.78-7.78 2.81-2.81c.8-.78.8-2.07 0-2.86zM5.41 20L4 18.59l7.72-7.72 1.47 1.35L5.41 20z\"/>\n",
              "  </svg>\n",
              "      </button>\n",
              "      \n",
              "  <style>\n",
              "    .colab-df-container {\n",
              "      display:flex;\n",
              "      flex-wrap:wrap;\n",
              "      gap: 12px;\n",
              "    }\n",
              "\n",
              "    .colab-df-convert {\n",
              "      background-color: #E8F0FE;\n",
              "      border: none;\n",
              "      border-radius: 50%;\n",
              "      cursor: pointer;\n",
              "      display: none;\n",
              "      fill: #1967D2;\n",
              "      height: 32px;\n",
              "      padding: 0 0 0 0;\n",
              "      width: 32px;\n",
              "    }\n",
              "\n",
              "    .colab-df-convert:hover {\n",
              "      background-color: #E2EBFA;\n",
              "      box-shadow: 0px 1px 2px rgba(60, 64, 67, 0.3), 0px 1px 3px 1px rgba(60, 64, 67, 0.15);\n",
              "      fill: #174EA6;\n",
              "    }\n",
              "\n",
              "    [theme=dark] .colab-df-convert {\n",
              "      background-color: #3B4455;\n",
              "      fill: #D2E3FC;\n",
              "    }\n",
              "\n",
              "    [theme=dark] .colab-df-convert:hover {\n",
              "      background-color: #434B5C;\n",
              "      box-shadow: 0px 1px 3px 1px rgba(0, 0, 0, 0.15);\n",
              "      filter: drop-shadow(0px 1px 2px rgba(0, 0, 0, 0.3));\n",
              "      fill: #FFFFFF;\n",
              "    }\n",
              "  </style>\n",
              "\n",
              "      <script>\n",
              "        const buttonEl =\n",
              "          document.querySelector('#df-b33d078b-186b-4166-952a-f0e5aaf7576c button.colab-df-convert');\n",
              "        buttonEl.style.display =\n",
              "          google.colab.kernel.accessAllowed ? 'block' : 'none';\n",
              "\n",
              "        async function convertToInteractive(key) {\n",
              "          const element = document.querySelector('#df-b33d078b-186b-4166-952a-f0e5aaf7576c');\n",
              "          const dataTable =\n",
              "            await google.colab.kernel.invokeFunction('convertToInteractive',\n",
              "                                                     [key], {});\n",
              "          if (!dataTable) return;\n",
              "\n",
              "          const docLinkHtml = 'Like what you see? Visit the ' +\n",
              "            '<a target=\"_blank\" href=https://colab.research.google.com/notebooks/data_table.ipynb>data table notebook</a>'\n",
              "            + ' to learn more about interactive tables.';\n",
              "          element.innerHTML = '';\n",
              "          dataTable['output_type'] = 'display_data';\n",
              "          await google.colab.output.renderOutput(dataTable, element);\n",
              "          const docLink = document.createElement('div');\n",
              "          docLink.innerHTML = docLinkHtml;\n",
              "          element.appendChild(docLink);\n",
              "        }\n",
              "      </script>\n",
              "    </div>\n",
              "  </div>\n",
              "  "
            ]
          },
          "metadata": {},
          "execution_count": 3
        }
      ],
      "source": [
        "#return some basic information of the dataset\n",
        "house_raw.info()\n",
        "house_raw.head(3)"
      ]
    },
    {
      "cell_type": "markdown",
      "metadata": {
        "id": "eBw-3sVQw59I"
      },
      "source": [
        "From the data info table, we can see that the dataset contains 21613 entries and 20 columns. Within these 20 columns--or variables--most of them are numerical variables. For instance, `price`, `bedrooms` and `bathrooms` are typical numerical variables. Besides numerical variables, there are also four categorical variables, including `waterfront`, `view`, `condition`, and `grade`."
      ]
    },
    {
      "cell_type": "markdown",
      "metadata": {
        "id": "PaEaebxIwruc"
      },
      "source": [
        "#### **2.3 Data dictionary**"
      ]
    },
    {
      "cell_type": "markdown",
      "metadata": {
        "id": "LSRRaqM1xsl6"
      },
      "source": [
        "To further understand our dataset, a data dictionary is provided below. This dataset includes all relevant information of sold houses in King County(Washington) from 2014 to 2015."
      ]
    },
    {
      "cell_type": "markdown",
      "metadata": {
        "id": "RJLgfjiDw2yv"
      },
      "source": [
        "`date` - Date of the home sale\n",
        "\n",
        "`price` - Price of each home sold\n",
        "\n",
        "`bedrooms` - Number of bedrooms\n",
        "\n",
        "`bathrooms` - Number of bathrooms, where .5 accounts for a room with a toilet but no shower\n",
        "\n",
        "`sqft_living` - Square footage of the apartments interior living space\n",
        "\n",
        "`sqft_lot` - Square footage of the land space\n",
        "\n",
        "`floors` - Number of floors\n",
        "\n",
        "`waterfront` - A dummy variable for whether the apartment was overlooking the waterfront or not\n",
        "\n",
        "`view` - An index from 0 to 4 of how good the view of the property was\n",
        "\n",
        "`condition` - An index from 1 to 5 on the condition of the apartment,\n",
        "\n",
        "`grade` - An index from 1 to 13, where 1-3 falls short of building construction and design, 7 has an average level of construction and design, and 11-13 have a high quality level of construction and design.\n",
        "\n",
        "`sqft_above` - The square footage of the interior housing space that is above ground level\n",
        "\n",
        "`sqft_basement` - The square footage of the interior housing space that is below ground level\n",
        "\n",
        "`yr_built` - The year the house was initially built\n",
        "\n",
        "`yr_renovated` - The year of the house’s last renovation\n",
        "\n",
        "`zipcode` - What zipcode area the house is in\n",
        "\n",
        "`lat` - Lattitude\n",
        "\n",
        "`long` - Longitude\n",
        "\n",
        "`sqft_living15` - The square footage of interior housing living space for the nearest 15 neighbors\n",
        "\n",
        "`sqft_lot15` - The square footage of the land lots of the nearest 15 neighbors"
      ]
    },
    {
      "cell_type": "markdown",
      "source": [
        "### **2.4 Data cleaning and attributions**"
      ],
      "metadata": {
        "id": "nv06xo_JH7mQ"
      }
    },
    {
      "cell_type": "markdown",
      "source": [
        "#### **2.4.1 Dealing with null values**"
      ],
      "metadata": {
        "id": "iRZ2x3fyJmaK"
      }
    },
    {
      "cell_type": "code",
      "source": [
        "# Get number of missing values in each column\n",
        "house_raw.isna().sum()\n"
      ],
      "metadata": {
        "colab": {
          "base_uri": "https://localhost:8080/"
        },
        "id": "OxQ1K0FcIRl5",
        "outputId": "923101ea-61a6-422c-e04f-a5922316b54e"
      },
      "execution_count": null,
      "outputs": [
        {
          "output_type": "execute_result",
          "data": {
            "text/plain": [
              "id               0\n",
              "date             0\n",
              "price            0\n",
              "bedrooms         0\n",
              "bathrooms        0\n",
              "sqft_living      0\n",
              "sqft_lot         0\n",
              "floors           0\n",
              "waterfront       0\n",
              "view             0\n",
              "condition        0\n",
              "grade            0\n",
              "sqft_above       0\n",
              "sqft_basement    0\n",
              "yr_built         0\n",
              "yr_renovated     0\n",
              "zipcode          0\n",
              "lat              0\n",
              "long             0\n",
              "sqft_living15    0\n",
              "sqft_lot15       0\n",
              "dtype: int64"
            ]
          },
          "metadata": {},
          "execution_count": 4
        }
      ]
    },
    {
      "cell_type": "markdown",
      "source": [
        "**➢ Observation:** No missing value detected in the dataset."
      ],
      "metadata": {
        "id": "IOF7CEZYIx3q"
      }
    },
    {
      "cell_type": "markdown",
      "source": [
        "#### **2.4.2 Check Duplicates**"
      ],
      "metadata": {
        "id": "SohK9purJ4cJ"
      }
    },
    {
      "cell_type": "code",
      "source": [
        "duplicates = house_raw[house_raw.duplicated()]\n",
        "print(len(duplicates))"
      ],
      "metadata": {
        "colab": {
          "base_uri": "https://localhost:8080/"
        },
        "id": "Z-sVeOm4J8cc",
        "outputId": "8d5c2bed-2e33-4d58-9e49-929c93fdaad2"
      },
      "execution_count": null,
      "outputs": [
        {
          "output_type": "stream",
          "name": "stdout",
          "text": [
            "0\n"
          ]
        }
      ]
    },
    {
      "cell_type": "markdown",
      "source": [
        "There are no completely identical rows in our dataset."
      ],
      "metadata": {
        "id": "qr8eyMkWKMG6"
      }
    },
    {
      "cell_type": "code",
      "source": [
        "duplicates = house_raw[house_raw.duplicated(subset=['id'])]\n",
        "print(len(duplicates))\n"
      ],
      "metadata": {
        "colab": {
          "base_uri": "https://localhost:8080/"
        },
        "id": "g5BheuzIKZHZ",
        "outputId": "81f20db4-6180-427e-988d-23333ddc03f8"
      },
      "execution_count": null,
      "outputs": [
        {
          "output_type": "stream",
          "name": "stdout",
          "text": [
            "177\n"
          ]
        }
      ]
    },
    {
      "cell_type": "markdown",
      "source": [
        "We note that there are multiple entries with same id. This would be due to the fact that a house may have been sold twice and thus have two entries.\n",
        "\n",
        "For now we will keep entries and allow the model to treat them as seperate data points."
      ],
      "metadata": {
        "id": "W8gbPhisKjtC"
      }
    },
    {
      "cell_type": "markdown",
      "source": [
        "#### **2.4.3 Dealing with outliers**"
      ],
      "metadata": {
        "id": "y5c-dpCeLeFn"
      }
    },
    {
      "cell_type": "code",
      "source": [
        "house = house_raw.drop(['id'],axis =1)"
      ],
      "metadata": {
        "id": "DqQx6X6zKbGU"
      },
      "execution_count": null,
      "outputs": []
    },
    {
      "cell_type": "code",
      "source": [
        "house.hist(figsize = (15,12))\n",
        "plt.show()"
      ],
      "metadata": {
        "colab": {
          "base_uri": "https://localhost:8080/",
          "height": 712
        },
        "id": "JdqLNu18LkY1",
        "outputId": "d1fb4b1a-326a-4257-bb81-93bec5a4bfb8"
      },
      "execution_count": null,
      "outputs": [
        {
          "output_type": "display_data",
          "data": {
            "text/plain": [
              "<Figure size 1080x864 with 20 Axes>"
            ],
            "image/png": "[encoded data removed]"
          },
          "metadata": {}
        }
      ]
    },
    {
      "cell_type": "markdown",
      "source": [
        "We note that grade, condition and floors appear to be on a reasonable scale with no apparent outliers and waterfront is binary 1/0 features.\n",
        "\n",
        "We will consider potential outliers in bedrooms, bathrooms and the sqft-type features"
      ],
      "metadata": {
        "id": "j0yGNBIVM-bF"
      }
    },
    {
      "cell_type": "code",
      "source": [
        "# Investigate bedrooms\n",
        "house['bedrooms'].value_counts()"
      ],
      "metadata": {
        "colab": {
          "base_uri": "https://localhost:8080/"
        },
        "id": "ltMiERyQN0AM",
        "outputId": "d342acb3-b903-4ea7-c940-c3bbfa542156"
      },
      "execution_count": null,
      "outputs": [
        {
          "output_type": "execute_result",
          "data": {
            "text/plain": [
              "3     9824\n",
              "4     6882\n",
              "2     2760\n",
              "5     1601\n",
              "6      272\n",
              "1      199\n",
              "7       38\n",
              "0       13\n",
              "8       13\n",
              "9        6\n",
              "10       3\n",
              "11       1\n",
              "33       1\n",
              "Name: bedrooms, dtype: int64"
            ]
          },
          "metadata": {},
          "execution_count": 6
        }
      ]
    },
    {
      "cell_type": "markdown",
      "source": [
        "The house with 33 bedrooms is worth exploring further."
      ],
      "metadata": {
        "id": "uNPImG4zN9wh"
      }
    },
    {
      "cell_type": "code",
      "source": [
        "house[house['bedrooms'] == 33]"
      ],
      "metadata": {
        "colab": {
          "base_uri": "https://localhost:8080/",
          "height": 145
        },
        "id": "QuiiIuycN7jj",
        "outputId": "0dd2af47-6c48-4763-cede-14efeb4776ae"
      },
      "execution_count": null,
      "outputs": [
        {
          "output_type": "execute_result",
          "data": {
            "text/plain": [
              "                  date     price  bedrooms  bathrooms  sqft_living  sqft_lot  \\\n",
              "15870  20140625T000000  640000.0        33       1.75         1620      6000   \n",
              "\n",
              "       floors  waterfront  view  condition  grade  sqft_above  sqft_basement  \\\n",
              "15870     1.0           0     0          5      7        1040            580   \n",
              "\n",
              "       yr_built  yr_renovated  zipcode      lat     long  sqft_living15  \\\n",
              "15870      1947             0    98103  47.6878 -122.331           1330   \n",
              "\n",
              "       sqft_lot15  \n",
              "15870        4700  "
            ],
            "text/html": [
              "\n",
              "  <div id=\"df-01b6e292-a4c6-4c72-8602-b3201dad0ba7\">\n",
              "    <div class=\"colab-df-container\">\n",
              "      <div>\n",
              "<style scoped>\n",
              "    .dataframe tbody tr th:only-of-type {\n",
              "        vertical-align: middle;\n",
              "    }\n",
              "\n",
              "    .dataframe tbody tr th {\n",
              "        vertical-align: top;\n",
              "    }\n",
              "\n",
              "    .dataframe thead th {\n",
              "        text-align: right;\n",
              "    }\n",
              "</style>\n",
              "<table border=\"1\" class=\"dataframe\">\n",
              "  <thead>\n",
              "    <tr style=\"text-align: right;\">\n",
              "      <th></th>\n",
              "      <th>date</th>\n",
              "      <th>price</th>\n",
              "      <th>bedrooms</th>\n",
              "      <th>bathrooms</th>\n",
              "      <th>sqft_living</th>\n",
              "      <th>sqft_lot</th>\n",
              "      <th>floors</th>\n",
              "      <th>waterfront</th>\n",
              "      <th>view</th>\n",
              "      <th>condition</th>\n",
              "      <th>grade</th>\n",
              "      <th>sqft_above</th>\n",
              "      <th>sqft_basement</th>\n",
              "      <th>yr_built</th>\n",
              "      <th>yr_renovated</th>\n",
              "      <th>zipcode</th>\n",
              "      <th>lat</th>\n",
              "      <th>long</th>\n",
              "      <th>sqft_living15</th>\n",
              "      <th>sqft_lot15</th>\n",
              "    </tr>\n",
              "  </thead>\n",
              "  <tbody>\n",
              "    <tr>\n",
              "      <th>15870</th>\n",
              "      <td>20140625T000000</td>\n",
              "      <td>640000.0</td>\n",
              "      <td>33</td>\n",
              "      <td>1.75</td>\n",
              "      <td>1620</td>\n",
              "      <td>6000</td>\n",
              "      <td>1.0</td>\n",
              "      <td>0</td>\n",
              "      <td>0</td>\n",
              "      <td>5</td>\n",
              "      <td>7</td>\n",
              "      <td>1040</td>\n",
              "      <td>580</td>\n",
              "      <td>1947</td>\n",
              "      <td>0</td>\n",
              "      <td>98103</td>\n",
              "      <td>47.6878</td>\n",
              "      <td>-122.331</td>\n",
              "      <td>1330</td>\n",
              "      <td>4700</td>\n",
              "    </tr>\n",
              "  </tbody>\n",
              "</table>\n",
              "</div>\n",
              "      <button class=\"colab-df-convert\" onclick=\"convertToInteractive('df-01b6e292-a4c6-4c72-8602-b3201dad0ba7')\"\n",
              "              title=\"Convert this dataframe to an interactive table.\"\n",
              "              style=\"display:none;\">\n",
              "        \n",
              "  <svg xmlns=\"http://www.w3.org/2000/svg\" height=\"24px\"viewBox=\"0 0 24 24\"\n",
              "       width=\"24px\">\n",
              "    <path d=\"M0 0h24v24H0V0z\" fill=\"none\"/>\n",
              "    <path d=\"M18.56 5.44l.94 2.06.94-2.06 2.06-.94-2.06-.94-.94-2.06-.94 2.06-2.06.94zm-11 1L8.5 8.5l.94-2.06 2.06-.94-2.06-.94L8.5 2.5l-.94 2.06-2.06.94zm10 10l.94 2.06.94-2.06 2.06-.94-2.06-.94-.94-2.06-.94 2.06-2.06.94z\"/><path d=\"M17.41 7.96l-1.37-1.37c-.4-.4-.92-.59-1.43-.59-.52 0-1.04.2-1.43.59L10.3 9.45l-7.72 7.72c-.78.78-.78 2.05 0 2.83L4 21.41c.39.39.9.59 1.41.59.51 0 1.02-.2 1.41-.59l7.78-7.78 2.81-2.81c.8-.78.8-2.07 0-2.86zM5.41 20L4 18.59l7.72-7.72 1.47 1.35L5.41 20z\"/>\n",
              "  </svg>\n",
              "      </button>\n",
              "      \n",
              "  <style>\n",
              "    .colab-df-container {\n",
              "      display:flex;\n",
              "      flex-wrap:wrap;\n",
              "      gap: 12px;\n",
              "    }\n",
              "\n",
              "    .colab-df-convert {\n",
              "      background-color: #E8F0FE;\n",
              "      border: none;\n",
              "      border-radius: 50%;\n",
              "      cursor: pointer;\n",
              "      display: none;\n",
              "      fill: #1967D2;\n",
              "      height: 32px;\n",
              "      padding: 0 0 0 0;\n",
              "      width: 32px;\n",
              "    }\n",
              "\n",
              "    .colab-df-convert:hover {\n",
              "      background-color: #E2EBFA;\n",
              "      box-shadow: 0px 1px 2px rgba(60, 64, 67, 0.3), 0px 1px 3px 1px rgba(60, 64, 67, 0.15);\n",
              "      fill: #174EA6;\n",
              "    }\n",
              "\n",
              "    [theme=dark] .colab-df-convert {\n",
              "      background-color: #3B4455;\n",
              "      fill: #D2E3FC;\n",
              "    }\n",
              "\n",
              "    [theme=dark] .colab-df-convert:hover {\n",
              "      background-color: #434B5C;\n",
              "      box-shadow: 0px 1px 3px 1px rgba(0, 0, 0, 0.15);\n",
              "      filter: drop-shadow(0px 1px 2px rgba(0, 0, 0, 0.3));\n",
              "      fill: #FFFFFF;\n",
              "    }\n",
              "  </style>\n",
              "\n",
              "      <script>\n",
              "        const buttonEl =\n",
              "          document.querySelector('#df-01b6e292-a4c6-4c72-8602-b3201dad0ba7 button.colab-df-convert');\n",
              "        buttonEl.style.display =\n",
              "          google.colab.kernel.accessAllowed ? 'block' : 'none';\n",
              "\n",
              "        async function convertToInteractive(key) {\n",
              "          const element = document.querySelector('#df-01b6e292-a4c6-4c72-8602-b3201dad0ba7');\n",
              "          const dataTable =\n",
              "            await google.colab.kernel.invokeFunction('convertToInteractive',\n",
              "                                                     [key], {});\n",
              "          if (!dataTable) return;\n",
              "\n",
              "          const docLinkHtml = 'Like what you see? Visit the ' +\n",
              "            '<a target=\"_blank\" href=https://colab.research.google.com/notebooks/data_table.ipynb>data table notebook</a>'\n",
              "            + ' to learn more about interactive tables.';\n",
              "          element.innerHTML = '';\n",
              "          dataTable['output_type'] = 'display_data';\n",
              "          await google.colab.output.renderOutput(dataTable, element);\n",
              "          const docLink = document.createElement('div');\n",
              "          docLink.innerHTML = docLinkHtml;\n",
              "          element.appendChild(docLink);\n",
              "        }\n",
              "      </script>\n",
              "    </div>\n",
              "  </div>\n",
              "  "
            ]
          },
          "metadata": {},
          "execution_count": 7
        }
      ]
    },
    {
      "cell_type": "markdown",
      "source": [
        "With 1.75 bathrooms, a sale price of $640,000 it is likely that this house has 3 bedrooms and the 33 was a data entry error."
      ],
      "metadata": {
        "id": "LumdXqhrOiBD"
      }
    },
    {
      "cell_type": "code",
      "source": [
        "# Fix typo for bedrooms\n",
        "house.loc[15870, 'bedrooms'] = 3"
      ],
      "metadata": {
        "id": "KetoP5OWOmyJ"
      },
      "execution_count": null,
      "outputs": []
    },
    {
      "cell_type": "markdown",
      "source": [
        "#**Part 3. Exploratory Data Analysis**"
      ],
      "metadata": {
        "id": "lACbvhk-QXO7"
      }
    },
    {
      "cell_type": "markdown",
      "source": [
        "###**3.1 Price feature based on location**"
      ],
      "metadata": {
        "id": "B8I6wwzQRcbM"
      }
    },
    {
      "cell_type": "markdown",
      "source": [
        "Location is critical when it comes to real estate. Our first question seeks to understand the geographical distribution of the homes in our dataset and determine where the highest house sales were recorded. We create a scatterplot using latitude and longitude features as a starting point."
      ],
      "metadata": {
        "id": "15LHmgbOQo_t"
      }
    },
    {
      "cell_type": "code",
      "source": [
        "\n",
        "plt.figure(figsize = (12,6))\n",
        "ax = sns.scatterplot(x = house['long'], y = house['lat'], hue = house['price'],\n",
        "                palette = 'nipy_spectral',s=10, legend = None, data = house)\n",
        "\n",
        "norm = plt.Normalize(house['price'].min(), house['price'].max())\n",
        "smap = plt.cm.ScalarMappable(cmap='nipy_spectral', norm=norm)\n",
        "smap.set_array([])\n",
        "\n",
        "ax.figure.colorbar(smap, label = 'price in USD')\n",
        "\n",
        "plt.xlabel('Longitude')\n",
        "plt.ylabel('Latitude')\n",
        "plt.title('King County House Sales')\n",
        "plt.show()"
      ],
      "metadata": {
        "colab": {
          "base_uri": "https://localhost:8080/",
          "height": 400
        },
        "id": "2IL6nbzVQcfv",
        "outputId": "439db893-4f27-4dde-d5d5-9852a262c8cb"
      },
      "execution_count": null,
      "outputs": [
        {
          "output_type": "display_data",
          "data": {
            "text/plain": [
              "<Figure size 864x432 with 2 Axes>"
            ],
            "image/png": "[encoded data removed]"
          },
          "metadata": {}
        }
      ]
    },
    {
      "cell_type": "markdown",
      "source": [
        "This visualization allows us to draw initial insights based on the houses' geographical locations. The highest house prices are concentrated in the area, with a latitude of around 47.6 and a longitude of around -122.25. There is a disparity with southern locations achieving lower house prices. The listings in our data are mostly located between latitude 47.2 and 47.8 and longitude between -122.4 and -121.8."
      ],
      "metadata": {
        "id": "UpOyiytRRMGM"
      }
    },
    {
      "cell_type": "markdown",
      "source": [
        "###**3.2 Waterfront feature**\n"
      ],
      "metadata": {
        "id": "93GIsjmWRlqm"
      }
    },
    {
      "cell_type": "markdown",
      "source": [
        "We have been provided with a waterfront feature, which characterises houses which have a view of a waterfront. Let us investigate how this feature relates to price by using a boxplot."
      ],
      "metadata": {
        "id": "aQwA4nc8R8Qo"
      }
    },
    {
      "cell_type": "code",
      "source": [
        "plt.figure(figsize = (8,6))\n",
        "sns.boxplot(x = house['waterfront'], y = house['log_price'],showmeans = True)\n",
        "plt.title(\"Boxplot of waterfront feature vs. log(price)\")\n",
        "plt.ylabel(\"log (price) in USD\")\n",
        "plt.xlabel(None)\n",
        "plt.xticks(np.arange(2), ('No waterfront view', 'Waterfront view'))\n",
        "\n",
        "plt.show()"
      ],
      "metadata": {
        "colab": {
          "base_uri": "https://localhost:8080/",
          "height": 387
        },
        "id": "pO8tg40LmJJt",
        "outputId": "6788a61a-3318-40ed-f04f-900219ada12f"
      },
      "execution_count": null,
      "outputs": [
        {
          "output_type": "display_data",
          "data": {
            "text/plain": [
              "<Figure size 576x432 with 1 Axes>"
            ],
            "image/png": "[encoded data removed]"
          },
          "metadata": {}
        }
      ]
    },
    {
      "cell_type": "code",
      "source": [
        "waterfrontmean = house[house['waterfront'] == 1]['price'].mean()\n",
        "nonwaterfrontmean = house[house['waterfront'] == 0]['price'].mean()\n",
        "print(f\"The mean house price for a house with waterfront view is USD {round(waterfrontmean,2)}\")\n",
        "print(f\"The mean house price for a house without waterfront view is USD {round(nonwaterfrontmean,2)}\")"
      ],
      "metadata": {
        "colab": {
          "base_uri": "https://localhost:8080/"
        },
        "id": "6tLJjAfHSVC3",
        "outputId": "739cb72f-f764-4f16-8d8c-6356bed75699"
      },
      "execution_count": null,
      "outputs": [
        {
          "output_type": "stream",
          "name": "stdout",
          "text": [
            "The mean house price for a house with waterfront view is USD 1662524.18\n",
            "The mean house price for a house without waterfront view is USD 531653.41\n"
          ]
        }
      ]
    },
    {
      "cell_type": "code",
      "source": [
        "len(house[house['waterfront'] == 1])/len(house)*100"
      ],
      "metadata": {
        "colab": {
          "base_uri": "https://localhost:8080/"
        },
        "id": "m2bDxbA5SlDU",
        "outputId": "c22b96d8-a5d3-4077-9a4b-a55cd1278ca6"
      },
      "execution_count": null,
      "outputs": [
        {
          "output_type": "execute_result",
          "data": {
            "text/plain": [
              "0.7541757275713691"
            ]
          },
          "metadata": {},
          "execution_count": 32
        }
      ]
    },
    {
      "cell_type": "markdown",
      "source": [
        "The median house price for houses with a waterfront view is almost double that of those without this feature. However note that only 0.7% of properties in our dataset have a waterfront view."
      ],
      "metadata": {
        "id": "NHtHi0okSh41"
      }
    },
    {
      "cell_type": "markdown",
      "metadata": {
        "id": "nGmfQ6xAK4cL"
      },
      "source": [
        "###**3.3 Zipcode effect on house price**"
      ]
    },
    {
      "cell_type": "code",
      "source": [
        "plt.figure(figsize=(30,8))\n",
        "sns.lineplot(x=\"zipcode\",y=\"price\",data= house,ci =None)\n",
        "plt.title('Relationship between price and zipcode',size = 25)\n",
        "sns.despine(left=True)"
      ],
      "metadata": {
        "colab": {
          "base_uri": "https://localhost:8080/",
          "height": 353
        },
        "id": "lwD2pZxNtHfG",
        "outputId": "ddb67b02-99f6-40fa-bf1d-a445d88537de"
      },
      "execution_count": null,
      "outputs": [
        {
          "output_type": "display_data",
          "data": {
            "text/plain": [
              "<Figure size 2160x576 with 1 Axes>"
            ],
            "image/png": "[encoded data removed]"
          },
          "metadata": {}
        }
      ]
    },
    {
      "cell_type": "markdown",
      "source": [
        "As we can see from the table, the prices fluctuate significantly from zip code 98000 to zip code 98200. Moreover, there is a very high peak between 98025 and 98050, indicating that the prices of houses in this area are very high. The possible reason is that the zip code means location, and different location suggests different prices. In the graph, the high price zip code may represent that the residence's income level is high, the external factors like views are tremendous, and transportation is convenient."
      ],
      "metadata": {
        "id": "eg3O5W_GLnLb"
      }
    },
    {
      "cell_type": "markdown",
      "source": [
        "###**3.4 Price trend over time**"
      ],
      "metadata": {
        "id": "Q41Oc7eXT3GC"
      }
    },
    {
      "cell_type": "code",
      "source": [
        "house['date']=pd.to_datetime(house['date'])\n",
        "house['year']=house['date'].apply(lambda date: date.year)\n",
        "house['month']=house['date'].apply(lambda date: date.month)"
      ],
      "metadata": {
        "id": "6D-Fkw5ZtAVz"
      },
      "execution_count": null,
      "outputs": []
    },
    {
      "cell_type": "code",
      "source": [
        "house['month'] = pd.DatetimeIndex(house['date']).month\n",
        "house['month_year'] = pd.to_datetime(house['date']).dt.to_period('M')"
      ],
      "metadata": {
        "id": "pD8WKhgmBDle"
      },
      "execution_count": null,
      "outputs": []
    },
    {
      "cell_type": "code",
      "source": [
        "plt.figure(figsize=(10,6))\n",
        "ax = house.groupby('month_year').mean()['price'].plot(linewidth = 2.5,color = \"r\")\n",
        "plt.title('Price trends over 2014 to 2015',size = 18)\n",
        "plt.xlabel(\"Month of year\",size = 15)\n",
        "plt.ylabel(\"mean price in USD\",size = 15)\n",
        "plt.grid()\n"
      ],
      "metadata": {
        "colab": {
          "base_uri": "https://localhost:8080/",
          "height": 419
        },
        "id": "3Nass-pFBZP4",
        "outputId": "d3bfbae9-f146-42fe-e11d-9d92ab6c5123"
      },
      "execution_count": null,
      "outputs": [
        {
          "output_type": "display_data",
          "data": {
            "text/plain": [
              "<Figure size 720x432 with 1 Axes>"
            ],
            "image/png": "[encoded data removed]"
          },
          "metadata": {}
        }
      ]
    },
    {
      "cell_type": "markdown",
      "source": [
        "After transforming the date variable, we create a line plot to see the price trend over the year. We found the house prices in King County (Washington) decreased from May, 2014 to Feb,2015 and then started increasing until May, 2015. The graph shows the oscillation of the Washington house price. We also searched some information online that the housing market at that time was still suffering the low inventory, and then the sales were also low."
      ],
      "metadata": {
        "id": "pHvsFUN_Lhip"
      }
    },
    {
      "cell_type": "markdown",
      "source": [
        "###**3.5 Conclusion**"
      ],
      "metadata": {
        "id": "KvCUmlr-Vx7Q"
      }
    },
    {
      "cell_type": "markdown",
      "source": [
        "Waterfront living is critical, with the median house price for a house with a waterfront view being almost double that of one that does not have this feature.\n",
        "The most expensive neighborhoods we recommend focusing the campaign on are Medina, Clyde Hill, and Mercer Island.\n",
        "Location within King County is essential, with a vast disparity among zip codes. The median house price ranges from 235,000 in 98002 to 1,260,000 in 98039."
      ],
      "metadata": {
        "id": "kKriuCPnV2fP"
      }
    },
    {
      "cell_type": "markdown",
      "source": [
        "#**Part 4. Data Modelling**"
      ],
      "metadata": {
        "id": "kEYCRB3NWdDt"
      }
    },
    {
      "cell_type": "markdown",
      "source": [
        "###**4.1 Train & Test Split**"
      ],
      "metadata": {
        "id": "QPnG1D37W93M"
      }
    },
    {
      "cell_type": "code",
      "execution_count": null,
      "metadata": {
        "id": "2qCMB7LXOKxY"
      },
      "outputs": [],
      "source": [
        "house[\"log_price\"] = np.log(house[\"price\"])"
      ]
    },
    {
      "cell_type": "code",
      "source": [
        "from sklearn.model_selection import train_test_split\n",
        "\n",
        "train_set, test_set = train_test_split(house, test_size=0.2, random_state=42)\n",
        "\n",
        "housing_price = house[\"price\"].copy()"
      ],
      "metadata": {
        "id": "CAXoNXX_XFjN"
      },
      "execution_count": null,
      "outputs": []
    },
    {
      "cell_type": "markdown",
      "source": [
        "###**4.2 Data Transformation**"
      ],
      "metadata": {
        "id": "eG4m7F_sXP9E"
      }
    },
    {
      "cell_type": "code",
      "source": [
        "plt.figure(figsize=(10,6))\n",
        "plt.subplot(1, 2, 1)\n",
        "ax = sns.histplot(data=house['price'], bins=40, stat='density', alpha= 1, kde=True,\n",
        "                  edgecolor='white', linewidth=0.5,\n",
        "                  line_kws=dict(color='black', alpha=0.5, linewidth=1.5, label='price'))\n",
        "ax.get_lines()[0].set_color('black') # edit line color due to bug in sns v 0.11.0\n",
        "\n",
        "# Edit legemd and add title\n",
        "ax.legend(frameon=False)\n",
        "ax.set_title('Price of houses', fontsize=14, pad=15)\n",
        "plt.subplot(1, 2, 2)\n",
        "ax2 = sns.histplot(data=house['log_price'], bins=40, stat='density', alpha= 1, kde=True,\n",
        "                  edgecolor='white', linewidth=0.5,\n",
        "                  line_kws=dict(color='black', alpha=0.5, linewidth=1.5, label='price'))\n",
        "ax2.get_lines()[0].set_color('black') # edit line color due to bug in sns v 0.11.0\n",
        "\n",
        "# Edit legemd and add title\n",
        "ax2.legend(frameon=False)\n",
        "ax2.set_title('Price of houses', fontsize=14, pad=15)\n",
        "\n",
        "plt.show()"
      ],
      "metadata": {
        "colab": {
          "base_uri": "https://localhost:8080/",
          "height": 411
        },
        "id": "b1lRTtrUX4hg",
        "outputId": "3a1a8251-c8ac-4bdc-bbea-cc0bddabf333"
      },
      "execution_count": null,
      "outputs": [
        {
          "output_type": "display_data",
          "data": {
            "text/plain": [
              "<Figure size 720x432 with 2 Axes>"
            ],
            "image/png": "[encoded data removed]"
          },
          "metadata": {}
        }
      ]
    },
    {
      "cell_type": "markdown",
      "source": [
        "The two distribution graphs show that the price distribution becomes more normal than the original one after applying the log price. The result proves our solution to the data challenges that log price can provide more accuracy and reasonable results."
      ],
      "metadata": {
        "id": "AHr2g0GZkXQV"
      }
    },
    {
      "cell_type": "markdown",
      "source": [
        "###**4.3 Feature Selection**"
      ],
      "metadata": {
        "id": "j1DGm7dTZfyU"
      }
    },
    {
      "cell_type": "markdown",
      "source": [
        "We use the feature selection method to select variables highly correlated to our response variable, price. We use a correlation matrix to help visualize the correlation between price and other variables."
      ],
      "metadata": {
        "id": "zA7RkD1lZks9"
      }
    },
    {
      "cell_type": "code",
      "execution_count": null,
      "metadata": {
        "colab": {
          "base_uri": "https://localhost:8080/"
        },
        "id": "StJfAd_Bdaqr",
        "outputId": "c9a713d2-9c4b-41b9-cc43-0a7d89aa09c6"
      },
      "outputs": [
        {
          "output_type": "execute_result",
          "data": {
            "text/plain": [
              "price            1.000000\n",
              "log_price        0.891680\n",
              "sqft_living      0.702044\n",
              "grade            0.667463\n",
              "sqft_above       0.605566\n",
              "sqft_living15    0.585374\n",
              "bathrooms        0.525134\n",
              "view             0.397346\n",
              "sqft_basement    0.323837\n",
              "bedrooms         0.315427\n",
              "lat              0.306919\n",
              "waterfront       0.266331\n",
              "floors           0.256786\n",
              "yr_renovated     0.126442\n",
              "sqft_lot         0.089655\n",
              "sqft_lot15       0.082456\n",
              "yr_built         0.053982\n",
              "condition        0.036392\n",
              "long             0.021571\n",
              "year             0.003554\n",
              "month           -0.010053\n",
              "zipcode         -0.053168\n",
              "Name: price, dtype: float64"
            ]
          },
          "metadata": {},
          "execution_count": 51
        }
      ],
      "source": [
        "#Correlation table of the dataset\n",
        "house.corr().price.sort_values(ascending = False)"
      ]
    },
    {
      "cell_type": "markdown",
      "source": [
        "Based on the correlation result, we include sqft_living, grade, bedroom, bathroom, sqft_above, sqft_living15, and sqft_basement as numerical variables. Waterfront, floors, view, and grade as categorical variables."
      ],
      "metadata": {
        "id": "SIsfdu7qacW-"
      }
    },
    {
      "cell_type": "code",
      "source": [
        "train_use = train_set.drop([\"date\",\"month\",\"year\",\"month_year\",\"price\",\"log_price\"],axis = 1)\n",
        "test_use = test_set.drop([\"date\",\"month\",\"year\",\"month_year\",\"price\",\"log_price\"],axis = 1)"
      ],
      "metadata": {
        "id": "dUseHJgFxJK4"
      },
      "execution_count": null,
      "outputs": []
    },
    {
      "cell_type": "code",
      "source": [
        "from sklearn.feature_selection import SelectKBest\n",
        "from sklearn.feature_selection import f_regression\n",
        "from matplotlib import pyplot\n",
        " \n",
        "# feature selection\n",
        "def select_features(X_train, y_train, X_test):\n",
        " # configure to select all features\n",
        " fs = SelectKBest(score_func=f_regression, k='all')\n",
        " # learn relationship from training data\n",
        " fs.fit(X_train, y_train)\n",
        " # transform train input data\n",
        " X_train_fs = fs.transform(X_train)\n",
        " # transform test input data\n",
        " X_test_fs = fs.transform(X_test)\n",
        " return X_train_fs, X_test_fs, fs\n",
        " \n",
        "\n",
        "X_train_fs, X_test_fs, fs = select_features(train_use, train_set.log_price, test_use)\n",
        "# what are scores for the features\n",
        "for i in range(len(fs.scores_)):\n",
        " print('Feature %d: %f' % (i, fs.scores_[i]))\n",
        "# plot the scores\n",
        "pyplot.bar([i for i in range(len(fs.scores_))], fs.scores_)\n",
        "pyplot.show()"
      ],
      "metadata": {
        "colab": {
          "base_uri": "https://localhost:8080/",
          "height": 586
        },
        "id": "NQgaZmTowJp0",
        "outputId": "97ee6853-27ab-4f3f-d801-45024a8bcf09"
      },
      "execution_count": null,
      "outputs": [
        {
          "output_type": "stream",
          "name": "stdout",
          "text": [
            "Feature 0: 2287.956837\n",
            "Feature 1: 7545.064825\n",
            "Feature 2: 16101.888824\n",
            "Feature 3: 174.593178\n",
            "Feature 4: 1802.493435\n",
            "Feature 5: 484.310456\n",
            "Feature 6: 2291.977983\n",
            "Feature 7: 26.418085\n",
            "Feature 8: 16635.387026\n",
            "Feature 9: 9640.129403\n",
            "Feature 10: 1912.283110\n",
            "Feature 11: 101.812406\n",
            "Feature 12: 232.109210\n",
            "Feature 13: 25.417978\n",
            "Feature 14: 4471.208222\n",
            "Feature 15: 45.022873\n",
            "Feature 16: 10559.372657\n",
            "Feature 17: 134.875435\n"
          ]
        },
        {
          "output_type": "display_data",
          "data": {
            "text/plain": [
              "<Figure size 432x288 with 1 Axes>"
            ],
            "image/png": "[encoded data removed]"
          },
          "metadata": {}
        }
      ]
    },
    {
      "cell_type": "code",
      "source": [
        "train_use.head()"
      ],
      "metadata": {
        "colab": {
          "base_uri": "https://localhost:8080/",
          "height": 270
        },
        "id": "PSg1u7TXyFdQ",
        "outputId": "fea0cb95-b7c0-4b51-9474-68c646f52eee"
      },
      "execution_count": null,
      "outputs": [
        {
          "output_type": "execute_result",
          "data": {
            "text/plain": [
              "       bedrooms  bathrooms  sqft_living  sqft_lot  floors  waterfront  view  \\\n",
              "6325          3       1.75         1780     13095     1.0           0     0   \n",
              "13473         2       1.00         1000      3700     1.0           0     0   \n",
              "17614         3       1.00         1080      7486     1.5           0     0   \n",
              "16970         3       2.25         2090      7500     1.0           0     0   \n",
              "20868         2       2.50         1741      1439     2.0           0     0   \n",
              "\n",
              "       condition  grade  sqft_above  sqft_basement  yr_built  yr_renovated  \\\n",
              "6325           4      9        1780              0      1983             0   \n",
              "13473          3      6         800            200      1929             0   \n",
              "17614          3      6         990             90      1942             0   \n",
              "16970          4      7        1280            810      1977             0   \n",
              "20868          3      8        1446            295      2007             0   \n",
              "\n",
              "       zipcode      lat     long  sqft_living15  sqft_lot15  \n",
              "6325     98042  47.3670 -122.152           2750       13095  \n",
              "13473    98118  47.5520 -122.290           1270        5000  \n",
              "17614    98146  47.4838 -122.335           1170        7800  \n",
              "16970    98031  47.3951 -122.172           1800        7350  \n",
              "20868    98034  47.7043 -122.209           2090       10454  "
            ],
            "text/html": [
              "\n",
              "  <div id=\"df-d96e9fcc-677f-477b-895b-cd50688cf3b5\">\n",
              "    <div class=\"colab-df-container\">\n",
              "      <div>\n",
              "<style scoped>\n",
              "    .dataframe tbody tr th:only-of-type {\n",
              "        vertical-align: middle;\n",
              "    }\n",
              "\n",
              "    .dataframe tbody tr th {\n",
              "        vertical-align: top;\n",
              "    }\n",
              "\n",
              "    .dataframe thead th {\n",
              "        text-align: right;\n",
              "    }\n",
              "</style>\n",
              "<table border=\"1\" class=\"dataframe\">\n",
              "  <thead>\n",
              "    <tr style=\"text-align: right;\">\n",
              "      <th></th>\n",
              "      <th>bedrooms</th>\n",
              "      <th>bathrooms</th>\n",
              "      <th>sqft_living</th>\n",
              "      <th>sqft_lot</th>\n",
              "      <th>floors</th>\n",
              "      <th>waterfront</th>\n",
              "      <th>view</th>\n",
              "      <th>condition</th>\n",
              "      <th>grade</th>\n",
              "      <th>sqft_above</th>\n",
              "      <th>sqft_basement</th>\n",
              "      <th>yr_built</th>\n",
              "      <th>yr_renovated</th>\n",
              "      <th>zipcode</th>\n",
              "      <th>lat</th>\n",
              "      <th>long</th>\n",
              "      <th>sqft_living15</th>\n",
              "      <th>sqft_lot15</th>\n",
              "    </tr>\n",
              "  </thead>\n",
              "  <tbody>\n",
              "    <tr>\n",
              "      <th>6325</th>\n",
              "      <td>3</td>\n",
              "      <td>1.75</td>\n",
              "      <td>1780</td>\n",
              "      <td>13095</td>\n",
              "      <td>1.0</td>\n",
              "      <td>0</td>\n",
              "      <td>0</td>\n",
              "      <td>4</td>\n",
              "      <td>9</td>\n",
              "      <td>1780</td>\n",
              "      <td>0</td>\n",
              "      <td>1983</td>\n",
              "      <td>0</td>\n",
              "      <td>98042</td>\n",
              "      <td>47.3670</td>\n",
              "      <td>-122.152</td>\n",
              "      <td>2750</td>\n",
              "      <td>13095</td>\n",
              "    </tr>\n",
              "    <tr>\n",
              "      <th>13473</th>\n",
              "      <td>2</td>\n",
              "      <td>1.00</td>\n",
              "      <td>1000</td>\n",
              "      <td>3700</td>\n",
              "      <td>1.0</td>\n",
              "      <td>0</td>\n",
              "      <td>0</td>\n",
              "      <td>3</td>\n",
              "      <td>6</td>\n",
              "      <td>800</td>\n",
              "      <td>200</td>\n",
              "      <td>1929</td>\n",
              "      <td>0</td>\n",
              "      <td>98118</td>\n",
              "      <td>47.5520</td>\n",
              "      <td>-122.290</td>\n",
              "      <td>1270</td>\n",
              "      <td>5000</td>\n",
              "    </tr>\n",
              "    <tr>\n",
              "      <th>17614</th>\n",
              "      <td>3</td>\n",
              "      <td>1.00</td>\n",
              "      <td>1080</td>\n",
              "      <td>7486</td>\n",
              "      <td>1.5</td>\n",
              "      <td>0</td>\n",
              "      <td>0</td>\n",
              "      <td>3</td>\n",
              "      <td>6</td>\n",
              "      <td>990</td>\n",
              "      <td>90</td>\n",
              "      <td>1942</td>\n",
              "      <td>0</td>\n",
              "      <td>98146</td>\n",
              "      <td>47.4838</td>\n",
              "      <td>-122.335</td>\n",
              "      <td>1170</td>\n",
              "      <td>7800</td>\n",
              "    </tr>\n",
              "    <tr>\n",
              "      <th>16970</th>\n",
              "      <td>3</td>\n",
              "      <td>2.25</td>\n",
              "      <td>2090</td>\n",
              "      <td>7500</td>\n",
              "      <td>1.0</td>\n",
              "      <td>0</td>\n",
              "      <td>0</td>\n",
              "      <td>4</td>\n",
              "      <td>7</td>\n",
              "      <td>1280</td>\n",
              "      <td>810</td>\n",
              "      <td>1977</td>\n",
              "      <td>0</td>\n",
              "      <td>98031</td>\n",
              "      <td>47.3951</td>\n",
              "      <td>-122.172</td>\n",
              "      <td>1800</td>\n",
              "      <td>7350</td>\n",
              "    </tr>\n",
              "    <tr>\n",
              "      <th>20868</th>\n",
              "      <td>2</td>\n",
              "      <td>2.50</td>\n",
              "      <td>1741</td>\n",
              "      <td>1439</td>\n",
              "      <td>2.0</td>\n",
              "      <td>0</td>\n",
              "      <td>0</td>\n",
              "      <td>3</td>\n",
              "      <td>8</td>\n",
              "      <td>1446</td>\n",
              "      <td>295</td>\n",
              "      <td>2007</td>\n",
              "      <td>0</td>\n",
              "      <td>98034</td>\n",
              "      <td>47.7043</td>\n",
              "      <td>-122.209</td>\n",
              "      <td>2090</td>\n",
              "      <td>10454</td>\n",
              "    </tr>\n",
              "  </tbody>\n",
              "</table>\n",
              "</div>\n",
              "      <button class=\"colab-df-convert\" onclick=\"convertToInteractive('df-d96e9fcc-677f-477b-895b-cd50688cf3b5')\"\n",
              "              title=\"Convert this dataframe to an interactive table.\"\n",
              "              style=\"display:none;\">\n",
              "        \n",
              "  <svg xmlns=\"http://www.w3.org/2000/svg\" height=\"24px\"viewBox=\"0 0 24 24\"\n",
              "       width=\"24px\">\n",
              "    <path d=\"M0 0h24v24H0V0z\" fill=\"none\"/>\n",
              "    <path d=\"M18.56 5.44l.94 2.06.94-2.06 2.06-.94-2.06-.94-.94-2.06-.94 2.06-2.06.94zm-11 1L8.5 8.5l.94-2.06 2.06-.94-2.06-.94L8.5 2.5l-.94 2.06-2.06.94zm10 10l.94 2.06.94-2.06 2.06-.94-2.06-.94-.94-2.06-.94 2.06-2.06.94z\"/><path d=\"M17.41 7.96l-1.37-1.37c-.4-.4-.92-.59-1.43-.59-.52 0-1.04.2-1.43.59L10.3 9.45l-7.72 7.72c-.78.78-.78 2.05 0 2.83L4 21.41c.39.39.9.59 1.41.59.51 0 1.02-.2 1.41-.59l7.78-7.78 2.81-2.81c.8-.78.8-2.07 0-2.86zM5.41 20L4 18.59l7.72-7.72 1.47 1.35L5.41 20z\"/>\n",
              "  </svg>\n",
              "      </button>\n",
              "      \n",
              "  <style>\n",
              "    .colab-df-container {\n",
              "      display:flex;\n",
              "      flex-wrap:wrap;\n",
              "      gap: 12px;\n",
              "    }\n",
              "\n",
              "    .colab-df-convert {\n",
              "      background-color: #E8F0FE;\n",
              "      border: none;\n",
              "      border-radius: 50%;\n",
              "      cursor: pointer;\n",
              "      display: none;\n",
              "      fill: #1967D2;\n",
              "      height: 32px;\n",
              "      padding: 0 0 0 0;\n",
              "      width: 32px;\n",
              "    }\n",
              "\n",
              "    .colab-df-convert:hover {\n",
              "      background-color: #E2EBFA;\n",
              "      box-shadow: 0px 1px 2px rgba(60, 64, 67, 0.3), 0px 1px 3px 1px rgba(60, 64, 67, 0.15);\n",
              "      fill: #174EA6;\n",
              "    }\n",
              "\n",
              "    [theme=dark] .colab-df-convert {\n",
              "      background-color: #3B4455;\n",
              "      fill: #D2E3FC;\n",
              "    }\n",
              "\n",
              "    [theme=dark] .colab-df-convert:hover {\n",
              "      background-color: #434B5C;\n",
              "      box-shadow: 0px 1px 3px 1px rgba(0, 0, 0, 0.15);\n",
              "      filter: drop-shadow(0px 1px 2px rgba(0, 0, 0, 0.3));\n",
              "      fill: #FFFFFF;\n",
              "    }\n",
              "  </style>\n",
              "\n",
              "      <script>\n",
              "        const buttonEl =\n",
              "          document.querySelector('#df-d96e9fcc-677f-477b-895b-cd50688cf3b5 button.colab-df-convert');\n",
              "        buttonEl.style.display =\n",
              "          google.colab.kernel.accessAllowed ? 'block' : 'none';\n",
              "\n",
              "        async function convertToInteractive(key) {\n",
              "          const element = document.querySelector('#df-d96e9fcc-677f-477b-895b-cd50688cf3b5');\n",
              "          const dataTable =\n",
              "            await google.colab.kernel.invokeFunction('convertToInteractive',\n",
              "                                                     [key], {});\n",
              "          if (!dataTable) return;\n",
              "\n",
              "          const docLinkHtml = 'Like what you see? Visit the ' +\n",
              "            '<a target=\"_blank\" href=https://colab.research.google.com/notebooks/data_table.ipynb>data table notebook</a>'\n",
              "            + ' to learn more about interactive tables.';\n",
              "          element.innerHTML = '';\n",
              "          dataTable['output_type'] = 'display_data';\n",
              "          await google.colab.output.renderOutput(dataTable, element);\n",
              "          const docLink = document.createElement('div');\n",
              "          docLink.innerHTML = docLinkHtml;\n",
              "          element.appendChild(docLink);\n",
              "        }\n",
              "      </script>\n",
              "    </div>\n",
              "  </div>\n",
              "  "
            ]
          },
          "metadata": {},
          "execution_count": 28
        }
      ]
    },
    {
      "cell_type": "markdown",
      "source": [
        "###**4.4 Pipeline and data preprocessing**"
      ],
      "metadata": {
        "id": "7bphmZ1kbciD"
      }
    },
    {
      "cell_type": "code",
      "execution_count": null,
      "metadata": {
        "id": "li6CL2BmOrGc"
      },
      "outputs": [],
      "source": [
        "# build the pipeline\n",
        "from sklearn.pipeline import Pipeline\n",
        "from sklearn.impute import SimpleImputer\n",
        "from sklearn.preprocessing import StandardScaler\n",
        "from sklearn.compose import ColumnTransformer\n",
        "from sklearn.pipeline import make_pipeline\n",
        "from sklearn.preprocessing import OneHotEncoder\n",
        "\n",
        "num_pipeline = Pipeline([\n",
        "    (\"impute\", SimpleImputer(strategy=\"median\")),\n",
        "    (\"standardize\", StandardScaler()),\n",
        "])\n",
        "\n",
        "\n",
        "num_attribs = [\"bedrooms\", \"bathrooms\", \"sqft_living\", \"sqft_above\",\n",
        "               \"sqft_basement\", \"sqft_living15\"]\n",
        "cat_attribs = [\"floors\",\"waterfront\",\"view\",\"grade\"]\n",
        "\n",
        "cat_pipeline = make_pipeline(\n",
        "    SimpleImputer(strategy=\"most_frequent\"),\n",
        "    OneHotEncoder(handle_unknown=\"ignore\"))\n",
        "\n",
        "preprocessing = ColumnTransformer([\n",
        "    (\"num\", num_pipeline, num_attribs),\n",
        "    (\"cat\", cat_pipeline, cat_attribs),\n",
        "])"
      ]
    },
    {
      "cell_type": "code",
      "execution_count": null,
      "metadata": {
        "colab": {
          "base_uri": "https://localhost:8080/",
          "height": 394
        },
        "id": "N5EP5-jwJ0pL",
        "outputId": "da755e7f-8ce9-4ce7-c3fa-1c84b8cd9025"
      },
      "outputs": [
        {
          "output_type": "execute_result",
          "data": {
            "text/plain": [
              "              price      bedrooms     bathrooms   sqft_living      sqft_lot  \\\n",
              "count  2.161300e+04  21613.000000  21613.000000  21613.000000  2.161300e+04   \n",
              "mean   5.401822e+05      3.369454      2.114757   2079.899736  1.510697e+04   \n",
              "std    3.673622e+05      0.907964      0.770163    918.440897  4.142051e+04   \n",
              "min    7.500000e+04      0.000000      0.000000    290.000000  5.200000e+02   \n",
              "25%    3.219500e+05      3.000000      1.750000   1427.000000  5.040000e+03   \n",
              "50%    4.500000e+05      3.000000      2.250000   1910.000000  7.618000e+03   \n",
              "75%    6.450000e+05      4.000000      2.500000   2550.000000  1.068800e+04   \n",
              "max    7.700000e+06     11.000000      8.000000  13540.000000  1.651359e+06   \n",
              "\n",
              "             floors    waterfront          view     condition         grade  \\\n",
              "count  21613.000000  21613.000000  21613.000000  21613.000000  21613.000000   \n",
              "mean       1.494309      0.007542      0.234303      3.409430      7.656873   \n",
              "std        0.539989      0.086517      0.766318      0.650743      1.175459   \n",
              "min        1.000000      0.000000      0.000000      1.000000      1.000000   \n",
              "25%        1.000000      0.000000      0.000000      3.000000      7.000000   \n",
              "50%        1.500000      0.000000      0.000000      3.000000      7.000000   \n",
              "75%        2.000000      0.000000      0.000000      4.000000      8.000000   \n",
              "max        3.500000      1.000000      4.000000      5.000000     13.000000   \n",
              "\n",
              "       ...      yr_built  yr_renovated       zipcode           lat  \\\n",
              "count  ...  21613.000000  21613.000000  21613.000000  21613.000000   \n",
              "mean   ...   1971.005136     84.402258  98077.939805     47.560053   \n",
              "std    ...     29.373411    401.679240     53.505026      0.138564   \n",
              "min    ...   1900.000000      0.000000  98001.000000     47.155900   \n",
              "25%    ...   1951.000000      0.000000  98033.000000     47.471000   \n",
              "50%    ...   1975.000000      0.000000  98065.000000     47.571800   \n",
              "75%    ...   1997.000000      0.000000  98118.000000     47.678000   \n",
              "max    ...   2015.000000   2015.000000  98199.000000     47.777600   \n",
              "\n",
              "               long  sqft_living15     sqft_lot15          year         month  \\\n",
              "count  21613.000000   21613.000000   21613.000000  21613.000000  21613.000000   \n",
              "mean    -122.213896    1986.552492   12768.455652   2014.322954      6.574423   \n",
              "std        0.140828     685.391304   27304.179631      0.467616      3.115308   \n",
              "min     -122.519000     399.000000     651.000000   2014.000000      1.000000   \n",
              "25%     -122.328000    1490.000000    5100.000000   2014.000000      4.000000   \n",
              "50%     -122.230000    1840.000000    7620.000000   2014.000000      6.000000   \n",
              "75%     -122.125000    2360.000000   10083.000000   2015.000000      9.000000   \n",
              "max     -121.315000    6210.000000  871200.000000   2015.000000     12.000000   \n",
              "\n",
              "          log_price  \n",
              "count  21613.000000  \n",
              "mean      13.047886  \n",
              "std        0.526822  \n",
              "min       11.225243  \n",
              "25%       12.682152  \n",
              "50%       13.017003  \n",
              "75%       13.377006  \n",
              "max       15.856731  \n",
              "\n",
              "[8 rows x 22 columns]"
            ],
            "text/html": [
              "\n",
              "  <div id=\"df-134dbe98-210f-4c92-b3cf-81d386fa2562\">\n",
              "    <div class=\"colab-df-container\">\n",
              "      <div>\n",
              "<style scoped>\n",
              "    .dataframe tbody tr th:only-of-type {\n",
              "        vertical-align: middle;\n",
              "    }\n",
              "\n",
              "    .dataframe tbody tr th {\n",
              "        vertical-align: top;\n",
              "    }\n",
              "\n",
              "    .dataframe thead th {\n",
              "        text-align: right;\n",
              "    }\n",
              "</style>\n",
              "<table border=\"1\" class=\"dataframe\">\n",
              "  <thead>\n",
              "    <tr style=\"text-align: right;\">\n",
              "      <th></th>\n",
              "      <th>price</th>\n",
              "      <th>bedrooms</th>\n",
              "      <th>bathrooms</th>\n",
              "      <th>sqft_living</th>\n",
              "      <th>sqft_lot</th>\n",
              "      <th>floors</th>\n",
              "      <th>waterfront</th>\n",
              "      <th>view</th>\n",
              "      <th>condition</th>\n",
              "      <th>grade</th>\n",
              "      <th>...</th>\n",
              "      <th>yr_built</th>\n",
              "      <th>yr_renovated</th>\n",
              "      <th>zipcode</th>\n",
              "      <th>lat</th>\n",
              "      <th>long</th>\n",
              "      <th>sqft_living15</th>\n",
              "      <th>sqft_lot15</th>\n",
              "      <th>year</th>\n",
              "      <th>month</th>\n",
              "      <th>log_price</th>\n",
              "    </tr>\n",
              "  </thead>\n",
              "  <tbody>\n",
              "    <tr>\n",
              "      <th>count</th>\n",
              "      <td>2.161300e+04</td>\n",
              "      <td>21613.000000</td>\n",
              "      <td>21613.000000</td>\n",
              "      <td>21613.000000</td>\n",
              "      <td>2.161300e+04</td>\n",
              "      <td>21613.000000</td>\n",
              "      <td>21613.000000</td>\n",
              "      <td>21613.000000</td>\n",
              "      <td>21613.000000</td>\n",
              "      <td>21613.000000</td>\n",
              "      <td>...</td>\n",
              "      <td>21613.000000</td>\n",
              "      <td>21613.000000</td>\n",
              "      <td>21613.000000</td>\n",
              "      <td>21613.000000</td>\n",
              "      <td>21613.000000</td>\n",
              "      <td>21613.000000</td>\n",
              "      <td>21613.000000</td>\n",
              "      <td>21613.000000</td>\n",
              "      <td>21613.000000</td>\n",
              "      <td>21613.000000</td>\n",
              "    </tr>\n",
              "    <tr>\n",
              "      <th>mean</th>\n",
              "      <td>5.401822e+05</td>\n",
              "      <td>3.369454</td>\n",
              "      <td>2.114757</td>\n",
              "      <td>2079.899736</td>\n",
              "      <td>1.510697e+04</td>\n",
              "      <td>1.494309</td>\n",
              "      <td>0.007542</td>\n",
              "      <td>0.234303</td>\n",
              "      <td>3.409430</td>\n",
              "      <td>7.656873</td>\n",
              "      <td>...</td>\n",
              "      <td>1971.005136</td>\n",
              "      <td>84.402258</td>\n",
              "      <td>98077.939805</td>\n",
              "      <td>47.560053</td>\n",
              "      <td>-122.213896</td>\n",
              "      <td>1986.552492</td>\n",
              "      <td>12768.455652</td>\n",
              "      <td>2014.322954</td>\n",
              "      <td>6.574423</td>\n",
              "      <td>13.047886</td>\n",
              "    </tr>\n",
              "    <tr>\n",
              "      <th>std</th>\n",
              "      <td>3.673622e+05</td>\n",
              "      <td>0.907964</td>\n",
              "      <td>0.770163</td>\n",
              "      <td>918.440897</td>\n",
              "      <td>4.142051e+04</td>\n",
              "      <td>0.539989</td>\n",
              "      <td>0.086517</td>\n",
              "      <td>0.766318</td>\n",
              "      <td>0.650743</td>\n",
              "      <td>1.175459</td>\n",
              "      <td>...</td>\n",
              "      <td>29.373411</td>\n",
              "      <td>401.679240</td>\n",
              "      <td>53.505026</td>\n",
              "      <td>0.138564</td>\n",
              "      <td>0.140828</td>\n",
              "      <td>685.391304</td>\n",
              "      <td>27304.179631</td>\n",
              "      <td>0.467616</td>\n",
              "      <td>3.115308</td>\n",
              "      <td>0.526822</td>\n",
              "    </tr>\n",
              "    <tr>\n",
              "      <th>min</th>\n",
              "      <td>7.500000e+04</td>\n",
              "      <td>0.000000</td>\n",
              "      <td>0.000000</td>\n",
              "      <td>290.000000</td>\n",
              "      <td>5.200000e+02</td>\n",
              "      <td>1.000000</td>\n",
              "      <td>0.000000</td>\n",
              "      <td>0.000000</td>\n",
              "      <td>1.000000</td>\n",
              "      <td>1.000000</td>\n",
              "      <td>...</td>\n",
              "      <td>1900.000000</td>\n",
              "      <td>0.000000</td>\n",
              "      <td>98001.000000</td>\n",
              "      <td>47.155900</td>\n",
              "      <td>-122.519000</td>\n",
              "      <td>399.000000</td>\n",
              "      <td>651.000000</td>\n",
              "      <td>2014.000000</td>\n",
              "      <td>1.000000</td>\n",
              "      <td>11.225243</td>\n",
              "    </tr>\n",
              "    <tr>\n",
              "      <th>25%</th>\n",
              "      <td>3.219500e+05</td>\n",
              "      <td>3.000000</td>\n",
              "      <td>1.750000</td>\n",
              "      <td>1427.000000</td>\n",
              "      <td>5.040000e+03</td>\n",
              "      <td>1.000000</td>\n",
              "      <td>0.000000</td>\n",
              "      <td>0.000000</td>\n",
              "      <td>3.000000</td>\n",
              "      <td>7.000000</td>\n",
              "      <td>...</td>\n",
              "      <td>1951.000000</td>\n",
              "      <td>0.000000</td>\n",
              "      <td>98033.000000</td>\n",
              "      <td>47.471000</td>\n",
              "      <td>-122.328000</td>\n",
              "      <td>1490.000000</td>\n",
              "      <td>5100.000000</td>\n",
              "      <td>2014.000000</td>\n",
              "      <td>4.000000</td>\n",
              "      <td>12.682152</td>\n",
              "    </tr>\n",
              "    <tr>\n",
              "      <th>50%</th>\n",
              "      <td>4.500000e+05</td>\n",
              "      <td>3.000000</td>\n",
              "      <td>2.250000</td>\n",
              "      <td>1910.000000</td>\n",
              "      <td>7.618000e+03</td>\n",
              "      <td>1.500000</td>\n",
              "      <td>0.000000</td>\n",
              "      <td>0.000000</td>\n",
              "      <td>3.000000</td>\n",
              "      <td>7.000000</td>\n",
              "      <td>...</td>\n",
              "      <td>1975.000000</td>\n",
              "      <td>0.000000</td>\n",
              "      <td>98065.000000</td>\n",
              "      <td>47.571800</td>\n",
              "      <td>-122.230000</td>\n",
              "      <td>1840.000000</td>\n",
              "      <td>7620.000000</td>\n",
              "      <td>2014.000000</td>\n",
              "      <td>6.000000</td>\n",
              "      <td>13.017003</td>\n",
              "    </tr>\n",
              "    <tr>\n",
              "      <th>75%</th>\n",
              "      <td>6.450000e+05</td>\n",
              "      <td>4.000000</td>\n",
              "      <td>2.500000</td>\n",
              "      <td>2550.000000</td>\n",
              "      <td>1.068800e+04</td>\n",
              "      <td>2.000000</td>\n",
              "      <td>0.000000</td>\n",
              "      <td>0.000000</td>\n",
              "      <td>4.000000</td>\n",
              "      <td>8.000000</td>\n",
              "      <td>...</td>\n",
              "      <td>1997.000000</td>\n",
              "      <td>0.000000</td>\n",
              "      <td>98118.000000</td>\n",
              "      <td>47.678000</td>\n",
              "      <td>-122.125000</td>\n",
              "      <td>2360.000000</td>\n",
              "      <td>10083.000000</td>\n",
              "      <td>2015.000000</td>\n",
              "      <td>9.000000</td>\n",
              "      <td>13.377006</td>\n",
              "    </tr>\n",
              "    <tr>\n",
              "      <th>max</th>\n",
              "      <td>7.700000e+06</td>\n",
              "      <td>11.000000</td>\n",
              "      <td>8.000000</td>\n",
              "      <td>13540.000000</td>\n",
              "      <td>1.651359e+06</td>\n",
              "      <td>3.500000</td>\n",
              "      <td>1.000000</td>\n",
              "      <td>4.000000</td>\n",
              "      <td>5.000000</td>\n",
              "      <td>13.000000</td>\n",
              "      <td>...</td>\n",
              "      <td>2015.000000</td>\n",
              "      <td>2015.000000</td>\n",
              "      <td>98199.000000</td>\n",
              "      <td>47.777600</td>\n",
              "      <td>-121.315000</td>\n",
              "      <td>6210.000000</td>\n",
              "      <td>871200.000000</td>\n",
              "      <td>2015.000000</td>\n",
              "      <td>12.000000</td>\n",
              "      <td>15.856731</td>\n",
              "    </tr>\n",
              "  </tbody>\n",
              "</table>\n",
              "<p>8 rows × 22 columns</p>\n",
              "</div>\n",
              "      <button class=\"colab-df-convert\" onclick=\"convertToInteractive('df-134dbe98-210f-4c92-b3cf-81d386fa2562')\"\n",
              "              title=\"Convert this dataframe to an interactive table.\"\n",
              "              style=\"display:none;\">\n",
              "        \n",
              "  <svg xmlns=\"http://www.w3.org/2000/svg\" height=\"24px\"viewBox=\"0 0 24 24\"\n",
              "       width=\"24px\">\n",
              "    <path d=\"M0 0h24v24H0V0z\" fill=\"none\"/>\n",
              "    <path d=\"M18.56 5.44l.94 2.06.94-2.06 2.06-.94-2.06-.94-.94-2.06-.94 2.06-2.06.94zm-11 1L8.5 8.5l.94-2.06 2.06-.94-2.06-.94L8.5 2.5l-.94 2.06-2.06.94zm10 10l.94 2.06.94-2.06 2.06-.94-2.06-.94-.94-2.06-.94 2.06-2.06.94z\"/><path d=\"M17.41 7.96l-1.37-1.37c-.4-.4-.92-.59-1.43-.59-.52 0-1.04.2-1.43.59L10.3 9.45l-7.72 7.72c-.78.78-.78 2.05 0 2.83L4 21.41c.39.39.9.59 1.41.59.51 0 1.02-.2 1.41-.59l7.78-7.78 2.81-2.81c.8-.78.8-2.07 0-2.86zM5.41 20L4 18.59l7.72-7.72 1.47 1.35L5.41 20z\"/>\n",
              "  </svg>\n",
              "      </button>\n",
              "      \n",
              "  <style>\n",
              "    .colab-df-container {\n",
              "      display:flex;\n",
              "      flex-wrap:wrap;\n",
              "      gap: 12px;\n",
              "    }\n",
              "\n",
              "    .colab-df-convert {\n",
              "      background-color: #E8F0FE;\n",
              "      border: none;\n",
              "      border-radius: 50%;\n",
              "      cursor: pointer;\n",
              "      display: none;\n",
              "      fill: #1967D2;\n",
              "      height: 32px;\n",
              "      padding: 0 0 0 0;\n",
              "      width: 32px;\n",
              "    }\n",
              "\n",
              "    .colab-df-convert:hover {\n",
              "      background-color: #E2EBFA;\n",
              "      box-shadow: 0px 1px 2px rgba(60, 64, 67, 0.3), 0px 1px 3px 1px rgba(60, 64, 67, 0.15);\n",
              "      fill: #174EA6;\n",
              "    }\n",
              "\n",
              "    [theme=dark] .colab-df-convert {\n",
              "      background-color: #3B4455;\n",
              "      fill: #D2E3FC;\n",
              "    }\n",
              "\n",
              "    [theme=dark] .colab-df-convert:hover {\n",
              "      background-color: #434B5C;\n",
              "      box-shadow: 0px 1px 3px 1px rgba(0, 0, 0, 0.15);\n",
              "      filter: drop-shadow(0px 1px 2px rgba(0, 0, 0, 0.3));\n",
              "      fill: #FFFFFF;\n",
              "    }\n",
              "  </style>\n",
              "\n",
              "      <script>\n",
              "        const buttonEl =\n",
              "          document.querySelector('#df-134dbe98-210f-4c92-b3cf-81d386fa2562 button.colab-df-convert');\n",
              "        buttonEl.style.display =\n",
              "          google.colab.kernel.accessAllowed ? 'block' : 'none';\n",
              "\n",
              "        async function convertToInteractive(key) {\n",
              "          const element = document.querySelector('#df-134dbe98-210f-4c92-b3cf-81d386fa2562');\n",
              "          const dataTable =\n",
              "            await google.colab.kernel.invokeFunction('convertToInteractive',\n",
              "                                                     [key], {});\n",
              "          if (!dataTable) return;\n",
              "\n",
              "          const docLinkHtml = 'Like what you see? Visit the ' +\n",
              "            '<a target=\"_blank\" href=https://colab.research.google.com/notebooks/data_table.ipynb>data table notebook</a>'\n",
              "            + ' to learn more about interactive tables.';\n",
              "          element.innerHTML = '';\n",
              "          dataTable['output_type'] = 'display_data';\n",
              "          await google.colab.output.renderOutput(dataTable, element);\n",
              "          const docLink = document.createElement('div');\n",
              "          docLink.innerHTML = docLinkHtml;\n",
              "          element.appendChild(docLink);\n",
              "        }\n",
              "      </script>\n",
              "    </div>\n",
              "  </div>\n",
              "  "
            ]
          },
          "metadata": {},
          "execution_count": 66
        }
      ],
      "source": [
        "#Describe some basic data numerical's information\n",
        "house.describe()"
      ]
    },
    {
      "cell_type": "markdown",
      "metadata": {
        "id": "bY_gRyeUyCad"
      },
      "source": [
        "From the table above, we can see some interesting trends in the numerical values. For instance, the price standardization is 3.67, which is not quite different from the mean (5.40). Close numbers like these reflect that the data points are scattered. Therefore, we can conclude that the dataset contains many outliers. While most of the outcomes for `floors`, `bedrooms` are integers, bedrooms have different outputs like \"1.75\" or \"2.25\". This is because some houses have 0.5 bathroom features. Besides, from the production of the view and waterfront, it is obvious that most houses do not have these features. Additionally, about 75% of houses have two floors.\n",
        "\n",
        "\n"
      ]
    },
    {
      "cell_type": "markdown",
      "metadata": {
        "id": "tY5lWcEtQnq9"
      },
      "source": [
        "The correlation value between the price and all variables is positive, indicating that the price increases with the number of bedrooms, bathrooms, square footage of the apartment's interior living space, etc. increasing.\n",
        "\n",
        "Moreover, we dropped some variables with low correlation p-values with the price later when we standardized the variables data because we tried to make meaningful data results.\n",
        "\n"
      ]
    },
    {
      "cell_type": "markdown",
      "source": [
        "Since our dataset contains more than 20,000 entries, our main challenge during processing data is that it includes many outliers compared to its size. Thus, we decide to use the house price log to reduce the dataset error rate and the following regression models.\n"
      ],
      "metadata": {
        "id": "Wu2PGuJ6VkQx"
      }
    },
    {
      "cell_type": "markdown",
      "source": [
        "###**4.5 Model Performance**"
      ],
      "metadata": {
        "id": "e2ryOCncb17q"
      }
    },
    {
      "cell_type": "markdown",
      "source": [
        "####**4.5.1 Model 1:Simple Linear Regression**"
      ],
      "metadata": {
        "id": "6n6D8plYb7ZS"
      }
    },
    {
      "cell_type": "code",
      "execution_count": null,
      "metadata": {
        "colab": {
          "base_uri": "https://localhost:8080/",
          "height": 296
        },
        "id": "qgOhzyg2ORcw",
        "outputId": "87be953f-ecbb-4f2f-8493-c935064818ef"
      },
      "outputs": [
        {
          "output_type": "execute_result",
          "data": {
            "text/plain": [
              "<matplotlib.axes._subplots.AxesSubplot at 0x7efcf46f1e80>"
            ]
          },
          "metadata": {},
          "execution_count": 67
        },
        {
          "output_type": "display_data",
          "data": {
            "text/plain": [
              "<Figure size 432x288 with 1 Axes>"
            ],
            "image/png": "[encoded data removed]"
          },
          "metadata": {}
        }
      ],
      "source": [
        "sns.regplot(x=house.sqft_living, y=house.log_price, order=1, ci=99, scatter_kws={'color':'r', 's':9})"
      ]
    },
    {
      "cell_type": "code",
      "execution_count": null,
      "metadata": {
        "colab": {
          "base_uri": "https://localhost:8080/"
        },
        "id": "soZZnQfCOaM8",
        "outputId": "2156e06a-825c-4a27-83a4-3398a66f4436"
      },
      "outputs": [
        {
          "output_type": "stream",
          "name": "stdout",
          "text": [
            "===============================================================================\n",
            "                  coef    std err          t      P>|t|      [0.025      0.975]\n",
            "-------------------------------------------------------------------------------\n",
            "Intercept      12.2183      0.006   1916.454      0.000      12.206      12.231\n",
            "sqft_living     0.0004    2.8e-06    142.248      0.000       0.000       0.000\n",
            "===============================================================================\n"
          ]
        }
      ],
      "source": [
        "import statsmodels.api as sm\n",
        "import statsmodels.formula.api as smf\n",
        "\n",
        "est = smf.ols('log_price ~ sqft_living', house).fit()\n",
        "print(est.summary().tables[1])"
      ]
    },
    {
      "cell_type": "markdown",
      "source": [
        "Simple linear regression based on price with the highest correlation variable: sqft of living. As we can see, the relationship between log_price and sqft_living is positive. When the square footage of interior housing living space for the nearest 15 neighbor increase, the price will increase simultaneously."
      ],
      "metadata": {
        "id": "NhQmBHPFs6Yj"
      }
    },
    {
      "cell_type": "code",
      "execution_count": null,
      "metadata": {
        "colab": {
          "base_uri": "https://localhost:8080/"
        },
        "id": "eTEoqAopOcEt",
        "outputId": "a4cdfc7c-d528-4e9e-a494-2ee664884032"
      },
      "outputs": [
        {
          "output_type": "stream",
          "name": "stdout",
          "text": [
            "0.4835534556874277\n",
            "0.4815805600683169\n",
            "in-sample r-square: 0.48\n",
            "out-of-sample r-square: 0.49\n"
          ]
        }
      ],
      "source": [
        "import sklearn.linear_model as skl_lm\n",
        "from sklearn.linear_model import LinearRegression\n",
        "from sklearn.model_selection import cross_validate\n",
        "\n",
        "\n",
        "regr = skl_lm.LinearRegression()\n",
        "X = house.sqft_living.values.reshape(-1,1) \n",
        "y = house.log_price # y being a vector is fine\n",
        "regr.fit(X,y)\n",
        "# in-sample R^2\n",
        "price_pred = regr.predict(X)\n",
        "print(r2_score(y, price_pred))\n",
        "# out-sample R^2\n",
        "\n",
        "result = cross_validate(LinearRegression(), X, y)\n",
        "print(result['test_score'].mean())\n",
        "\n",
        "est = smf.ols('log_price ~ sqft_living', train_set).fit()\n",
        "print('in-sample r-square: {:.2f}'.format(est.rsquared))\n",
        "predictions = est.predict(test_set) # automatically transforms the test data per the formula, i.e., calls the log and square etc.\n",
        "print('out-of-sample r-square: {:.2f}'.format(r2_score(test_set.log_price, predictions)))"
      ]
    },
    {
      "cell_type": "markdown",
      "source": [
        "The in-sample $R^2$ is a  bit lower than out-of-sample $R^2$ but basically the same, which means the model could not only be used for trained data but also is effective regarding out-sample data in the case of forecasting."
      ],
      "metadata": {
        "id": "KAEEpFy7ZMoZ"
      }
    },
    {
      "cell_type": "markdown",
      "source": [
        "####**4.5.2 Model 2:Linear Regression**"
      ],
      "metadata": {
        "id": "phae7TeXeNKo"
      }
    },
    {
      "cell_type": "code",
      "source": [
        "housing_prepared = preprocessing.fit_transform(train_set)"
      ],
      "metadata": {
        "id": "SrRnSZTbPIdn"
      },
      "execution_count": null,
      "outputs": []
    },
    {
      "cell_type": "code",
      "source": [
        "from sklearn.experimental import enable_iterative_imputer\n",
        "from sklearn.impute import IterativeImputer\n",
        "\n",
        "def monkey_patch_get_signature_names_out():\n",
        "    \"\"\"Monkey patch some classes which did not handle get_feature_names_out()\n",
        "       correctly in Scikit-Learn 1.0.*.\"\"\"\n",
        "    from inspect import Signature, signature, Parameter\n",
        "    import pandas as pd\n",
        "    from sklearn.impute import SimpleImputer\n",
        "    from sklearn.pipeline import make_pipeline, Pipeline\n",
        "    from sklearn.preprocessing import FunctionTransformer, StandardScaler\n",
        "\n",
        "    default_get_feature_names_out = StandardScaler.get_feature_names_out\n",
        "\n",
        "    if not hasattr(SimpleImputer, \"get_feature_names_out\"):\n",
        "      print(\"Monkey-patching SimpleImputer.get_feature_names_out()\")\n",
        "      SimpleImputer.get_feature_names_out = default_get_feature_names_out\n",
        "\n",
        "    if not hasattr(FunctionTransformer, \"get_feature_names_out\"):\n",
        "        print(\"Monkey-patching FunctionTransformer.get_feature_names_out()\")\n",
        "        orig_init = FunctionTransformer.__init__\n",
        "        orig_sig = signature(orig_init)\n",
        "\n",
        "        def __init__(*args, feature_names_out=None, **kwargs):\n",
        "            orig_sig.bind(*args, **kwargs)\n",
        "            orig_init(*args, **kwargs)\n",
        "            args[0].feature_names_out = feature_names_out\n",
        "\n",
        "        __init__.__signature__ = Signature(\n",
        "            list(signature(orig_init).parameters.values()) + [\n",
        "                Parameter(\"feature_names_out\", Parameter.KEYWORD_ONLY)])\n",
        "\n",
        "        def get_feature_names_out(self, names=None):\n",
        "            if callable(self.feature_names_out):\n",
        "                return self.feature_names_out(self, names)\n",
        "            assert self.feature_names_out == \"one-to-one\"\n",
        "            return default_get_feature_names_out(self, names)\n",
        "\n",
        "        FunctionTransformer.__init__ = __init__\n",
        "        FunctionTransformer.get_feature_names_out = get_feature_names_out\n",
        "    \n",
        "    if not hasattr(IterativeImputer, \"get_feature_names_out\"):\n",
        "      print(\"Monkey-patching IterativeImputer.get_feature_names_out()\")\n",
        "      IterativeImputer.get_feature_names_out = default_get_feature_names_out\n",
        "monkey_patch_get_signature_names_out()"
      ],
      "metadata": {
        "colab": {
          "base_uri": "https://localhost:8080/"
        },
        "id": "7fmMiJMQPKI4",
        "outputId": "e0d3272b-180f-4a00-d745-5adcd1bccf1f"
      },
      "execution_count": null,
      "outputs": [
        {
          "output_type": "stream",
          "name": "stdout",
          "text": [
            "Monkey-patching SimpleImputer.get_feature_names_out()\n",
            "Monkey-patching FunctionTransformer.get_feature_names_out()\n",
            "Monkey-patching IterativeImputer.get_feature_names_out()\n"
          ]
        }
      ]
    },
    {
      "cell_type": "code",
      "source": [
        "housing_prepared_fr = pd.DataFrame(\n",
        "    housing_prepared,\n",
        "    columns=preprocessing.get_feature_names_out(),\n",
        "    index=train_set.index)\n",
        "housing_prepared_fr.head(2)"
      ],
      "metadata": {
        "colab": {
          "base_uri": "https://localhost:8080/",
          "height": 205
        },
        "id": "l_hMUBvPPRwq",
        "outputId": "5c240d1b-491c-4255-82db-5ff84f27b848"
      },
      "execution_count": null,
      "outputs": [
        {
          "output_type": "execute_result",
          "data": {
            "text/plain": [
              "       num__bedrooms  num__bathrooms  num__sqft_living  num__sqft_above  \\\n",
              "6325       -0.395263       -0.474451         -0.323933        -0.007257   \n",
              "13473      -1.468964       -1.452583         -1.183653        -1.200048   \n",
              "\n",
              "       num__sqft_basement  num__sqft_living15  cat__floors_1.0  \\\n",
              "6325            -0.656310            1.126073              1.0   \n",
              "13473           -0.200433           -1.046523              1.0   \n",
              "\n",
              "       cat__floors_1.5  cat__floors_2.0  cat__floors_2.5  ...  cat__grade_4.0  \\\n",
              "6325               0.0              0.0              0.0  ...             0.0   \n",
              "13473              0.0              0.0              0.0  ...             0.0   \n",
              "\n",
              "       cat__grade_5.0  cat__grade_6.0  cat__grade_7.0  cat__grade_8.0  \\\n",
              "6325              0.0             0.0             0.0             0.0   \n",
              "13473             0.0             1.0             0.0             0.0   \n",
              "\n",
              "       cat__grade_9.0  cat__grade_10.0  cat__grade_11.0  cat__grade_12.0  \\\n",
              "6325              1.0              0.0              0.0              0.0   \n",
              "13473             0.0              0.0              0.0              0.0   \n",
              "\n",
              "       cat__grade_13.0  \n",
              "6325               0.0  \n",
              "13473              0.0  \n",
              "\n",
              "[2 rows x 31 columns]"
            ],
            "text/html": [
              "\n",
              "  <div id=\"df-d756391c-29e5-4f1e-85af-1e158defea7d\">\n",
              "    <div class=\"colab-df-container\">\n",
              "      <div>\n",
              "<style scoped>\n",
              "    .dataframe tbody tr th:only-of-type {\n",
              "        vertical-align: middle;\n",
              "    }\n",
              "\n",
              "    .dataframe tbody tr th {\n",
              "        vertical-align: top;\n",
              "    }\n",
              "\n",
              "    .dataframe thead th {\n",
              "        text-align: right;\n",
              "    }\n",
              "</style>\n",
              "<table border=\"1\" class=\"dataframe\">\n",
              "  <thead>\n",
              "    <tr style=\"text-align: right;\">\n",
              "      <th></th>\n",
              "      <th>num__bedrooms</th>\n",
              "      <th>num__bathrooms</th>\n",
              "      <th>num__sqft_living</th>\n",
              "      <th>num__sqft_above</th>\n",
              "      <th>num__sqft_basement</th>\n",
              "      <th>num__sqft_living15</th>\n",
              "      <th>cat__floors_1.0</th>\n",
              "      <th>cat__floors_1.5</th>\n",
              "      <th>cat__floors_2.0</th>\n",
              "      <th>cat__floors_2.5</th>\n",
              "      <th>...</th>\n",
              "      <th>cat__grade_4.0</th>\n",
              "      <th>cat__grade_5.0</th>\n",
              "      <th>cat__grade_6.0</th>\n",
              "      <th>cat__grade_7.0</th>\n",
              "      <th>cat__grade_8.0</th>\n",
              "      <th>cat__grade_9.0</th>\n",
              "      <th>cat__grade_10.0</th>\n",
              "      <th>cat__grade_11.0</th>\n",
              "      <th>cat__grade_12.0</th>\n",
              "      <th>cat__grade_13.0</th>\n",
              "    </tr>\n",
              "  </thead>\n",
              "  <tbody>\n",
              "    <tr>\n",
              "      <th>6325</th>\n",
              "      <td>-0.395263</td>\n",
              "      <td>-0.474451</td>\n",
              "      <td>-0.323933</td>\n",
              "      <td>-0.007257</td>\n",
              "      <td>-0.656310</td>\n",
              "      <td>1.126073</td>\n",
              "      <td>1.0</td>\n",
              "      <td>0.0</td>\n",
              "      <td>0.0</td>\n",
              "      <td>0.0</td>\n",
              "      <td>...</td>\n",
              "      <td>0.0</td>\n",
              "      <td>0.0</td>\n",
              "      <td>0.0</td>\n",
              "      <td>0.0</td>\n",
              "      <td>0.0</td>\n",
              "      <td>1.0</td>\n",
              "      <td>0.0</td>\n",
              "      <td>0.0</td>\n",
              "      <td>0.0</td>\n",
              "      <td>0.0</td>\n",
              "    </tr>\n",
              "    <tr>\n",
              "      <th>13473</th>\n",
              "      <td>-1.468964</td>\n",
              "      <td>-1.452583</td>\n",
              "      <td>-1.183653</td>\n",
              "      <td>-1.200048</td>\n",
              "      <td>-0.200433</td>\n",
              "      <td>-1.046523</td>\n",
              "      <td>1.0</td>\n",
              "      <td>0.0</td>\n",
              "      <td>0.0</td>\n",
              "      <td>0.0</td>\n",
              "      <td>...</td>\n",
              "      <td>0.0</td>\n",
              "      <td>0.0</td>\n",
              "      <td>1.0</td>\n",
              "      <td>0.0</td>\n",
              "      <td>0.0</td>\n",
              "      <td>0.0</td>\n",
              "      <td>0.0</td>\n",
              "      <td>0.0</td>\n",
              "      <td>0.0</td>\n",
              "      <td>0.0</td>\n",
              "    </tr>\n",
              "  </tbody>\n",
              "</table>\n",
              "<p>2 rows × 31 columns</p>\n",
              "</div>\n",
              "      <button class=\"colab-df-convert\" onclick=\"convertToInteractive('df-d756391c-29e5-4f1e-85af-1e158defea7d')\"\n",
              "              title=\"Convert this dataframe to an interactive table.\"\n",
              "              style=\"display:none;\">\n",
              "        \n",
              "  <svg xmlns=\"http://www.w3.org/2000/svg\" height=\"24px\"viewBox=\"0 0 24 24\"\n",
              "       width=\"24px\">\n",
              "    <path d=\"M0 0h24v24H0V0z\" fill=\"none\"/>\n",
              "    <path d=\"M18.56 5.44l.94 2.06.94-2.06 2.06-.94-2.06-.94-.94-2.06-.94 2.06-2.06.94zm-11 1L8.5 8.5l.94-2.06 2.06-.94-2.06-.94L8.5 2.5l-.94 2.06-2.06.94zm10 10l.94 2.06.94-2.06 2.06-.94-2.06-.94-.94-2.06-.94 2.06-2.06.94z\"/><path d=\"M17.41 7.96l-1.37-1.37c-.4-.4-.92-.59-1.43-.59-.52 0-1.04.2-1.43.59L10.3 9.45l-7.72 7.72c-.78.78-.78 2.05 0 2.83L4 21.41c.39.39.9.59 1.41.59.51 0 1.02-.2 1.41-.59l7.78-7.78 2.81-2.81c.8-.78.8-2.07 0-2.86zM5.41 20L4 18.59l7.72-7.72 1.47 1.35L5.41 20z\"/>\n",
              "  </svg>\n",
              "      </button>\n",
              "      \n",
              "  <style>\n",
              "    .colab-df-container {\n",
              "      display:flex;\n",
              "      flex-wrap:wrap;\n",
              "      gap: 12px;\n",
              "    }\n",
              "\n",
              "    .colab-df-convert {\n",
              "      background-color: #E8F0FE;\n",
              "      border: none;\n",
              "      border-radius: 50%;\n",
              "      cursor: pointer;\n",
              "      display: none;\n",
              "      fill: #1967D2;\n",
              "      height: 32px;\n",
              "      padding: 0 0 0 0;\n",
              "      width: 32px;\n",
              "    }\n",
              "\n",
              "    .colab-df-convert:hover {\n",
              "      background-color: #E2EBFA;\n",
              "      box-shadow: 0px 1px 2px rgba(60, 64, 67, 0.3), 0px 1px 3px 1px rgba(60, 64, 67, 0.15);\n",
              "      fill: #174EA6;\n",
              "    }\n",
              "\n",
              "    [theme=dark] .colab-df-convert {\n",
              "      background-color: #3B4455;\n",
              "      fill: #D2E3FC;\n",
              "    }\n",
              "\n",
              "    [theme=dark] .colab-df-convert:hover {\n",
              "      background-color: #434B5C;\n",
              "      box-shadow: 0px 1px 3px 1px rgba(0, 0, 0, 0.15);\n",
              "      filter: drop-shadow(0px 1px 2px rgba(0, 0, 0, 0.3));\n",
              "      fill: #FFFFFF;\n",
              "    }\n",
              "  </style>\n",
              "\n",
              "      <script>\n",
              "        const buttonEl =\n",
              "          document.querySelector('#df-d756391c-29e5-4f1e-85af-1e158defea7d button.colab-df-convert');\n",
              "        buttonEl.style.display =\n",
              "          google.colab.kernel.accessAllowed ? 'block' : 'none';\n",
              "\n",
              "        async function convertToInteractive(key) {\n",
              "          const element = document.querySelector('#df-d756391c-29e5-4f1e-85af-1e158defea7d');\n",
              "          const dataTable =\n",
              "            await google.colab.kernel.invokeFunction('convertToInteractive',\n",
              "                                                     [key], {});\n",
              "          if (!dataTable) return;\n",
              "\n",
              "          const docLinkHtml = 'Like what you see? Visit the ' +\n",
              "            '<a target=\"_blank\" href=https://colab.research.google.com/notebooks/data_table.ipynb>data table notebook</a>'\n",
              "            + ' to learn more about interactive tables.';\n",
              "          element.innerHTML = '';\n",
              "          dataTable['output_type'] = 'display_data';\n",
              "          await google.colab.output.renderOutput(dataTable, element);\n",
              "          const docLink = document.createElement('div');\n",
              "          docLink.innerHTML = docLinkHtml;\n",
              "          element.appendChild(docLink);\n",
              "        }\n",
              "      </script>\n",
              "    </div>\n",
              "  </div>\n",
              "  "
            ]
          },
          "metadata": {},
          "execution_count": 47
        }
      ]
    },
    {
      "cell_type": "code",
      "source": [
        "from sklearn.linear_model import LinearRegression\n",
        "from sklearn.model_selection import cross_val_score\n",
        "\n",
        "lin_reg = make_pipeline(preprocessing, LinearRegression())\n",
        "lin_reg.fit(train_set, train_set.log_price)\n",
        "\n",
        "housing_predictions = lin_reg.predict(train_set)\n",
        "\n",
        "from sklearn.metrics import mean_squared_error\n",
        "\n",
        "lin_rmse = mean_squared_error(train_set.log_price, housing_predictions,\n",
        "                              squared=False)\n",
        "print('Training data error {:.8f}'.format(lin_rmse))\n",
        "housing_lin_predictions_test = lin_reg.predict(test_set)\n",
        "lin_test_rmses = mean_squared_error(test_set.log_price,housing_lin_predictions_test,\n",
        "                              squared = False)\n",
        "print('Test data error {:.8f}'.format(lin_test_rmses))\n",
        "\n",
        "\n",
        "r2_lin_value = r2_score(train_set.log_price, housing_predictions)\n",
        "print('R^2 value is {:.8f}'.format(r2_lin_value))\n",
        "r2_lin_value_test = r2_score(test_set.log_price, housing_lin_predictions_test)\n",
        "print('test R^2 value is {:.8f}'.format(r2_lin_value_test))"
      ],
      "metadata": {
        "colab": {
          "base_uri": "https://localhost:8080/"
        },
        "id": "RrvLYtCjPUhz",
        "outputId": "85291e52-25b2-4997-a7ff-6acf572fb822"
      },
      "execution_count": null,
      "outputs": [
        {
          "output_type": "stream",
          "name": "stdout",
          "text": [
            "Training data error 0.33021954\n",
            "Test data error 0.33326770\n",
            "R^2 value is 0.60430438\n",
            "test R^2 value is 0.61054945\n"
          ]
        }
      ]
    },
    {
      "cell_type": "markdown",
      "source": [
        "Similar to the linear regression model, the Training and test data errors are almost Training data errors, and test data errors are very alike; the difference between in-sample and out-of-sample $R^2$ is within 0.01 in the linear regression model. These results reflect that the model is stable regardless of the training data. The value of both $R^2$ means that the linear regression model can predict house price changes."
      ],
      "metadata": {
        "id": "d7e_yqpQcy2-"
      }
    },
    {
      "cell_type": "markdown",
      "source": [
        "####**4.5.3 Model 3: Ridge Regression** "
      ],
      "metadata": {
        "id": "xWSggQfzHl5l"
      }
    },
    {
      "cell_type": "code",
      "source": [
        "from sklearn.linear_model import RidgeCV\n",
        "from sklearn.model_selection import cross_val_score\n",
        "\n",
        "ridge_reg = make_pipeline(preprocessing, RidgeCV(alphas=(.1, 1, 10)))\n",
        "ridge_reg.fit(train_set, train_set.log_price)\n",
        "housing_ridge_predictions = ridge_reg.predict(train_set)\n",
        "ridge_rmse = mean_squared_error(train_set.log_price, housing_ridge_predictions, squared=False)\n",
        "print('Training data error {:.8f}'.format(ridge_rmse))\n",
        "\n",
        "housing_ridge_predictions_test = ridge_reg.predict(test_set)\n",
        "ridge_test_rmses = mean_squared_error(test_set.log_price,housing_ridge_predictions_test,\n",
        "                              squared = False)\n",
        "print('Test data error {:.8f}'.format(ridge_test_rmses))\n",
        "\n",
        "r2_ridge_value = r2_score(train_set.log_price, housing_ridge_predictions)\n",
        "print('train R^2 value is {:.8f}'.format(r2_ridge_value))\n",
        "\n",
        "r2_ridge_value_test = r2_score(test_set.log_price, housing_ridge_predictions_test)\n",
        "print('test R^2 value is {:.8f}'.format(r2_ridge_value_test))"
      ],
      "metadata": {
        "colab": {
          "base_uri": "https://localhost:8080/"
        },
        "id": "BVvVidLZPqX7",
        "outputId": "e80a9be9-497f-4969-a5d5-d68531c8bb7b"
      },
      "execution_count": null,
      "outputs": [
        {
          "output_type": "stream",
          "name": "stdout",
          "text": [
            "Training data error 0.33035854\n",
            "Test data error 0.33325593\n",
            "train R^2 value is 0.60397118\n",
            "test R^2 value is 0.61057696\n"
          ]
        }
      ]
    },
    {
      "cell_type": "markdown",
      "source": [
        "Similar to the linear regression model, the training and test data errors are almost identical (.003 difference); the difference between in-sample and out-of-sample r-square is about 0.01. These results reflect that the model is stable regardless of data training. The value of both $R^2$ means that the Ridge regression model can predict house price changes."
      ],
      "metadata": {
        "id": "lAwlZ2i-gjA0"
      }
    },
    {
      "cell_type": "markdown",
      "source": [
        "####**4.5.4 Model 4: Lasso Regression** "
      ],
      "metadata": {
        "id": "-3n5AZ8SHS99"
      }
    },
    {
      "cell_type": "code",
      "source": [
        "from sklearn.linear_model import Lasso\n",
        "\n",
        "lasso_reg = make_pipeline(preprocessing, Lasso(alpha = 1))\n",
        "lasso_reg.fit(train_set,train_set.log_price)\n",
        "housing_lasso_predictions = lasso_reg.predict(train_set)\n",
        "lasso_rmse = mean_squared_error(train_set.log_price, housing_lasso_predictions, squared=False)\n",
        "print('Training data error {:.8f}'.format(lasso_rmse))\n",
        "\n",
        "housing_lasso_predictions_test = lasso_reg.predict(test_set)\n",
        "lasso_test_rmses = mean_squared_error(test_set.log_price,housing_lasso_predictions_test,\n",
        "                              squared = False)\n",
        "print('Test data error {:.8f}'.format(lasso_test_rmses))\n",
        "\n",
        "r2_lasso_value = r2_score(train_set.log_price, housing_lasso_predictions)\n",
        "print('train R^2 value is {:.8f}'.format(r2_lasso_value))\n",
        "\n",
        "r2_lasso_value_test = r2_score(test_set.log_price, housing_lasso_predictions_test)\n",
        "print('test R^2 value is {:.8f}'.format(r2_lasso_value_test))"
      ],
      "metadata": {
        "colab": {
          "base_uri": "https://localhost:8080/"
        },
        "id": "rymTHjA8Psb_",
        "outputId": "7955b2e4-13b5-4b17-d0fa-9885d83e8c4b"
      },
      "execution_count": null,
      "outputs": [
        {
          "output_type": "stream",
          "name": "stdout",
          "text": [
            "Training data error 0.52495508\n",
            "Test data error 0.53419653\n",
            "train R^2 value is 0.00000000\n",
            "test R^2 value is -0.00061727\n"
          ]
        }
      ]
    },
    {
      "cell_type": "markdown",
      "source": [
        "Interesting observation: why seeing  $R^2$  = 0?\n",
        "\n",
        "The original model needs a reasonably small coefficient on X because its scale is so large that the data don't receive many penalties from the lasso. After standardization, the model now wants a more significant coefficient on X, which means the lasso penalty contributes more. Then getting an $R^2$  of 0 suggests that the lasso penalty is large enough to push the coefficient to zero, so the model is just a horizontal line. If you reduce the regularization strength a bit, you should be able to recover the old model."
      ],
      "metadata": {
        "id": "q5m18sNPP6ol"
      }
    },
    {
      "cell_type": "markdown",
      "source": [
        "####**4.5.5 Model 5: DecisionTree Regression** "
      ],
      "metadata": {
        "id": "t34uQ2WUHi-m"
      }
    },
    {
      "cell_type": "code",
      "source": [
        "from sklearn.tree import DecisionTreeRegressor,plot_tree\n",
        "\n",
        "tree_reg = make_pipeline(preprocessing, DecisionTreeRegressor(random_state=18))\n",
        "tree_reg.fit(train_set,train_set.log_price)\n",
        "housing_tree_predictions = tree_reg.predict(train_set)\n",
        "tree_rmse = mean_squared_error(train_set.log_price, housing_tree_predictions, squared=False)\n",
        "print('Training data error {:.8f}'.format(tree_rmse))\n",
        "\n",
        "housing_tree_predictions_test = tree_reg.predict(test_set)\n",
        "tree_test_rmses = mean_squared_error(test_set.log_price,housing_tree_predictions_test,\n",
        "                              squared = False)\n",
        "print('Test data error {:.8f}'.format(tree_test_rmses))\n",
        "\n",
        "r2_tree_value = r2_score(train_set.log_price, housing_tree_predictions)\n",
        "print('R^2 value is {:.8f}'.format(r2_tree_value))\n",
        "r2_tree_value_test = r2_score(test_set.log_price, housing_tree_predictions_test)\n",
        "print('test R^2 value is {:.8f}'.format(r2_tree_value_test))\n"
      ],
      "metadata": {
        "colab": {
          "base_uri": "https://localhost:8080/"
        },
        "id": "R_prmOrmQEry",
        "outputId": "871413b2-161a-4551-ce75-96cd580e7954"
      },
      "execution_count": null,
      "outputs": [
        {
          "output_type": "stream",
          "name": "stdout",
          "text": [
            "Training data error 0.04679018\n",
            "Test data error 0.45225788\n",
            "R^2 value is 0.99205553\n",
            "test R^2 value is 0.28280351\n"
          ]
        }
      ]
    },
    {
      "cell_type": "markdown",
      "source": [
        "The training data error is relatively low (0.04). Considered its extremely high r-square value (0.99), the results suggest that the decisiontree regressor is over-fitting and may not be suitable for this analysis."
      ],
      "metadata": {
        "id": "p49CCDOlQWMG"
      }
    },
    {
      "cell_type": "markdown",
      "source": [
        "####**4.5.6Model 6: Random Forest Regression** "
      ],
      "metadata": {
        "id": "JvTb9l7bH14M"
      }
    },
    {
      "cell_type": "code",
      "source": [
        "from sklearn.ensemble import RandomForestRegressor\n",
        "\n",
        "forest_reg = make_pipeline(preprocessing,\n",
        "                           RandomForestRegressor(random_state=18))\n",
        "forest_reg.fit(train_set,train_set.log_price)\n",
        "housing_forest_predictions = forest_reg.predict(train_set)\n",
        "forest_rmse = mean_squared_error(train_set.log_price, housing_forest_predictions, squared=False)\n",
        "print('Training data error {:.8f}'.format(forest_rmse))\n",
        "\n",
        "housing_forest_predictions_test = forest_reg.predict(test_set)\n",
        "forest_test_rmses = mean_squared_error(test_set.log_price,housing_forest_predictions_test,\n",
        "                              squared = False)\n",
        "print('Test data error {:.8f}'.format(forest_test_rmses))\n",
        "\n",
        "r2_forest_value = r2_score(train_set.log_price, housing_forest_predictions)\n",
        "print('R^2 value is {:.8f}'.format(r2_forest_value))\n",
        "r2_forest_value_test = r2_score(test_set.log_price, housing_forest_predictions_test)\n",
        "print('test R^2 value is {:.8f}'.format(r2_forest_value_test))\n"
      ],
      "metadata": {
        "colab": {
          "base_uri": "https://localhost:8080/"
        },
        "id": "bV56xkQFQe4G",
        "outputId": "3f423866-e854-42b8-ca9d-90057ccba521"
      },
      "execution_count": null,
      "outputs": [
        {
          "output_type": "stream",
          "name": "stdout",
          "text": [
            "Training data error 0.13010512\n",
            "Test data error 0.33584577\n",
            "R^2 value is 0.93857510\n",
            "test R^2 value is 0.60450078\n"
          ]
        }
      ]
    },
    {
      "cell_type": "markdown",
      "source": [
        "In the Random Forest Regressor, we see the final output that test data error is more significant than train data error which means that the model is overfitting for the dataset even though the $R^2$ is super high. Still, we do not consider this model at this time."
      ],
      "metadata": {
        "id": "VjwKJxziG17H"
      }
    },
    {
      "cell_type": "markdown",
      "source": [
        "####**4.5.7 Model 7: SVM(Support Vector Machines)** "
      ],
      "metadata": {
        "id": "qs-enOeAP62T"
      }
    },
    {
      "cell_type": "code",
      "source": [
        "from sklearn.svm import SVR\n",
        "svr_reg = make_pipeline(preprocessing,\n",
        "                           SVR(kernel=\"rbf\"))\n",
        "svr_reg.fit(train_set,train_set.log_price)\n",
        "housing_svr_predictions = svr_reg.predict(train_set)\n",
        "svr_rmse = mean_squared_error(train_set.log_price, housing_svr_predictions, squared=False)\n",
        "print('Training data error {:.8f}'.format(svr_rmse))\n",
        "\n",
        "housing_svr_predictions_test = svr_reg.predict(test_set)\n",
        "svr_test_rmses = mean_squared_error(test_set.log_price,housing_svr_predictions_test,\n",
        "                              squared = False)\n",
        "print('Test data error {:.8f}'.format(svr_test_rmses))\n",
        "\n",
        "r2_svr_value = r2_score(train_set.log_price, housing_svr_predictions)\n",
        "print('R^2 value is {:.8f}'.format(r2_svr_value))\n",
        "r2_svr_value_test = r2_score(test_set.log_price, housing_svr_predictions_test)\n",
        "print('test R^2 value is {:.8f}'.format(r2_svr_value_test))"
      ],
      "metadata": {
        "colab": {
          "base_uri": "https://localhost:8080/"
        },
        "id": "h2rMqCxyQkTN",
        "outputId": "3f2b8fad-b28a-444c-ec34-2024c14f48c6"
      },
      "execution_count": null,
      "outputs": [
        {
          "output_type": "stream",
          "name": "stdout",
          "text": [
            "Training data error 0.30489537\n",
            "Test data error 0.32377017\n",
            "R^2 value is 0.66266814\n",
            "test R^2 value is 0.63243043\n"
          ]
        }
      ]
    },
    {
      "cell_type": "markdown",
      "source": [
        "The SVM model works well here because the train and test data errors do not have significant differences, which means that the model's performance is good, and 0.66 $R^2$ is a more substantial number that proves the results' accuracy.\n"
      ],
      "metadata": {
        "id": "V9tHtYBhNOzk"
      }
    },
    {
      "cell_type": "markdown",
      "source": [
        "####**4.5.8 Model 8: Gradient Boosting Regressor** "
      ],
      "metadata": {
        "id": "xyOVQhMpQA7W"
      }
    },
    {
      "cell_type": "code",
      "source": [
        "from sklearn.ensemble import HistGradientBoostingRegressor\n",
        "\n",
        "hgb_reg = make_pipeline(preprocessing,\n",
        "                    HistGradientBoostingRegressor(max_leaf_nodes=16, max_iter=10, learning_rate=.1))\n",
        "hgb_reg.fit(train_set,train_set.log_price)\n",
        "housing_hgb_predictions = hgb_reg.predict(train_set)\n",
        "hgb_rmse = mean_squared_error(train_set.log_price, housing_hgb_predictions, squared=False)\n",
        "print('Training data error {:.8f}'.format(hgb_rmse))\n",
        "\n",
        "housing_hgb_predictions_test = hgb_reg.predict(test_set)\n",
        "hgb_test_rmses = mean_squared_error(test_set.log_price,housing_hgb_predictions_test,\n",
        "                              squared = False)\n",
        "print('Test data error {:.8f}'.format(hgb_test_rmses))\n",
        "\n",
        "r2_hgb_value = r2_score(train_set.log_price, housing_hgb_predictions)\n",
        "print('R^2 value is {:.8f}'.format(r2_hgb_value))\n",
        "\n",
        "r2_hgb_value_test = r2_score(test_set.log_price, housing_hgb_predictions_test)\n",
        "print('test R^2 value is {:.8f}'.format(r2_hgb_value_test))"
      ],
      "metadata": {
        "colab": {
          "base_uri": "https://localhost:8080/"
        },
        "id": "A-o8v3bsQngd",
        "outputId": "4107485d-6a2b-4853-bf0d-d7edd19cdae8"
      },
      "execution_count": null,
      "outputs": [
        {
          "output_type": "stream",
          "name": "stdout",
          "text": [
            "Training data error 0.37135009\n",
            "Test data error 0.37706036\n",
            "R^2 value is 0.49959369\n",
            "test R^2 value is 0.50147420\n"
          ]
        }
      ]
    },
    {
      "cell_type": "markdown",
      "source": [
        "The boosting model's performance is not good compare with other models even the train and test data errors do not have big differences. The main reason is the low R square value that only have 0.5 which means the accuracy of the results are not very credible. \n"
      ],
      "metadata": {
        "id": "Io3eb3PkwNlf"
      }
    },
    {
      "cell_type": "markdown",
      "source": [
        "####**4.5.9 Model 9: XGBregressor** "
      ],
      "metadata": {
        "id": "qki4W2zYQGmM"
      }
    },
    {
      "cell_type": "code",
      "source": [
        "from xgboost import XGBRegressor\n",
        "\n",
        "xgbr = XGBRegressor(verbosity=0) \n",
        "\n",
        "xgb_reg = make_pipeline(preprocessing,\n",
        "                    XGBRegressor())\n",
        "xgb_reg.fit(train_set,train_set.log_price)\n",
        "housing_xgb_predictions = xgb_reg.predict(train_set)\n",
        "xgb_rmse = mean_squared_error(train_set.log_price, housing_xgb_predictions, squared=False)\n",
        "print('Training data error {:.8f}'.format(xgb_rmse))\n",
        "\n",
        "housing_xgb_predictions_test = xgb_reg.predict(test_set)\n",
        "xgb_test_rmses = mean_squared_error(test_set.log_price,housing_xgb_predictions_test,\n",
        "                              squared = False)\n",
        "print('Test data error {:.8f}'.format(xgb_test_rmses))\n",
        "\n",
        "r2_xgb_value = r2_score(train_set.log_price, housing_xgb_predictions)\n",
        "print('R^2 value is {:.8f}'.format(r2_xgb_value))\n",
        "\n",
        "r2_xgb_value_test = r2_score(test_set.log_price, housing_xgb_predictions_test)\n",
        "print('test R^2 value is {:.8f}'.format(r2_xgb_value_test))"
      ],
      "metadata": {
        "colab": {
          "base_uri": "https://localhost:8080/"
        },
        "id": "dQq3F6CnQq5N",
        "outputId": "956f38a7-1bc8-4d90-c647-bc3e2e735570"
      },
      "execution_count": null,
      "outputs": [
        {
          "output_type": "stream",
          "name": "stdout",
          "text": [
            "[23:12:34] WARNING: /workspace/src/objective/regression_obj.cu:152: reg:linear is now deprecated in favor of reg:squarederror.\n",
            "Training data error 0.31796145\n",
            "Test data error 0.32605123\n",
            "R^2 value is 0.63313636\n",
            "test R^2 value is 0.62723291\n"
          ]
        }
      ]
    },
    {
      "cell_type": "markdown",
      "source": [
        "The bagging, boosting model is not bad. We first checked the train and test data errors, and the errors do not have significant differences, which means that the model's performance is good. The R square here is 0.63, which is an ok number that the model results are acceptable for analysis.\n"
      ],
      "metadata": {
        "id": "1ubMmA13wway"
      }
    },
    {
      "cell_type": "markdown",
      "source": [
        "####**4.5.10 Model 10: Voting regressor**"
      ],
      "metadata": {
        "id": "3UsRzxk6QVE2"
      }
    },
    {
      "cell_type": "code",
      "source": [
        "from scipy.spatial import SphericalVoronoi\n",
        "from sklearn.ensemble import VotingRegressor\n",
        "\n",
        "from sklearn.svm import SVR\n",
        "\n",
        "voting_reg = make_pipeline(preprocessing,VotingRegressor(\n",
        "    estimators=[\n",
        "        ('lm', LinearRegression()),\n",
        "        ('svr', SVR(kernel = \"rbf\")),\n",
        "        ('hgb', HistGradientBoostingRegressor(random_state=42))\n",
        "    ]\n",
        "    # default is hard voting, but you can use soft voting by passing voting = 'soft'\n",
        "))\n",
        "\n",
        "voting_reg.fit(train_set, train_set.log_price)  # fit each member model and keep it for application"
      ],
      "metadata": {
        "colab": {
          "base_uri": "https://localhost:8080/"
        },
        "id": "SdVZB6CMQ1B0",
        "outputId": "a86862e3-f0e3-4566-9304-e867de22c7f7"
      },
      "execution_count": null,
      "outputs": [
        {
          "output_type": "execute_result",
          "data": {
            "text/plain": [
              "Pipeline(steps=[('columntransformer',\n",
              "                 ColumnTransformer(transformers=[('num',\n",
              "                                                  Pipeline(steps=[('impute',\n",
              "                                                                   SimpleImputer(strategy='median')),\n",
              "                                                                  ('standardize',\n",
              "                                                                   StandardScaler())]),\n",
              "                                                  ['bedrooms', 'bathrooms',\n",
              "                                                   'sqft_living', 'sqft_above',\n",
              "                                                   'sqft_basement',\n",
              "                                                   'sqft_living15']),\n",
              "                                                 ('cat',\n",
              "                                                  Pipeline(steps=[('simpleimputer',\n",
              "                                                                   SimpleImputer(strategy='most_frequent')),\n",
              "                                                                  ('onehotencoder',\n",
              "                                                                   OneHotEncoder(handle_unknown='ignore'))]),\n",
              "                                                  ['floors', 'waterfront',\n",
              "                                                   'view', 'grade'])])),\n",
              "                ('votingregressor',\n",
              "                 VotingRegressor(estimators=[('lm', LinearRegression()),\n",
              "                                             ('svr', SVR()),\n",
              "                                             ('hgb',\n",
              "                                              HistGradientBoostingRegressor(random_state=42))]))])"
            ]
          },
          "metadata": {},
          "execution_count": 58
        }
      ]
    },
    {
      "cell_type": "code",
      "source": [
        "housing_vot_predictions = voting_reg.predict(train_set)\n",
        "vot_rmse = mean_squared_error(train_set.log_price, housing_vot_predictions, squared=False)\n",
        "print('Training data error {:.8f}'.format(vot_rmse))\n",
        "\n",
        "housing_vot_predictions_test = voting_reg.predict(test_set)\n",
        "vot_test_rmses = mean_squared_error(test_set.log_price,housing_vot_predictions_test,\n",
        "                              squared = False)\n",
        "print('Test data error {:.8f}'.format(vot_test_rmses))\n",
        "\n",
        "r2_vot_value = r2_score(train_set.log_price, housing_vot_predictions)\n",
        "print('R^2 value is {:.8f}'.format(r2_vot_value))\n",
        "\n",
        "r2_vot_value_test = r2_score(test_set.log_price, housing_vot_predictions_test)\n",
        "print('test R^2 value is {:.8f}'.format(r2_vot_value_test))"
      ],
      "metadata": {
        "colab": {
          "base_uri": "https://localhost:8080/"
        },
        "id": "-0DFwvYeQ4Dk",
        "outputId": "c52c5c35-2eda-44d9-c8a0-a254acd063f4"
      },
      "execution_count": null,
      "outputs": [
        {
          "output_type": "stream",
          "name": "stdout",
          "text": [
            "Training data error 0.30620606\n",
            "Test data error 0.31981475\n",
            "R^2 value is 0.65976164\n",
            "test R^2 value is 0.64135659\n"
          ]
        }
      ]
    },
    {
      "cell_type": "markdown",
      "source": [
        "In the voting model, the train and test data errors is fine with the R square value is 0.66 which also a good number that measn the model fits our dataset. "
      ],
      "metadata": {
        "id": "gE46yviVwxUb"
      }
    },
    {
      "cell_type": "markdown",
      "source": [
        "###**4.6 Comparison between models**"
      ],
      "metadata": {
        "id": "IAHQ1Q8EQd0T"
      }
    },
    {
      "cell_type": "code",
      "source": [
        "Regressor = [\"Linear\",\"Ridge\",\"Lasso\",\"DecisionTree\",\"RandomForest\",\"SVR\",\"GradientBoost\",\"XGBoost\",\"Voting\"]\n",
        "\n",
        "Training_MSE = [lin_rmse,ridge_rmse,lasso_rmse,tree_rmse,forest_rmse,svr_rmse,hgb_rmse,xgb_rmse,vot_rmse]\n",
        "Testing_MSE = [lin_test_rmses,ridge_test_rmses,lasso_test_rmses,tree_test_rmses,forest_test_rmses,svr_test_rmses,hgb_test_rmses,xgb_test_rmses,vot_test_rmses]\n",
        "\n",
        "Train_Rsq = [r2_lin_value,r2_ridge_value,r2_lasso_value,r2_tree_value,r2_forest_value,r2_svr_value,r2_hgb_value,r2_xgb_value,r2_vot_value]\n",
        "\n",
        "Test_Rsq = [r2_lin_value_test,r2_ridge_value_test,r2_lasso_value_test,r2_tree_value_test,r2_forest_value_test,r2_svr_value_test,r2_hgb_value_test,r2_xgb_value_test,r2_vot_value_test]\n",
        "\n",
        "\n",
        "d = {'Regressor':Regressor,'Train_MSE':Training_MSE,'Test_MSE':Testing_MSE,'Train_Rsq':Train_Rsq,'Test_Rsq':Test_Rsq}\n",
        "df = pd.DataFrame(d)\n",
        "print(df)"
      ],
      "metadata": {
        "colab": {
          "base_uri": "https://localhost:8080/"
        },
        "id": "jRx-8KaOQ6de",
        "outputId": "9640c194-1ed8-4eab-a4e8-a69defe2b423"
      },
      "execution_count": null,
      "outputs": [
        {
          "output_type": "stream",
          "name": "stdout",
          "text": [
            "       Regressor  Train_MSE  Test_MSE  Train_Rsq  Test_Rsq\n",
            "0         Linear   0.330326  0.333242   0.604049  0.610610\n",
            "1          Ridge   0.330359  0.333256   0.603971  0.610577\n",
            "2          Lasso   0.524955  0.534197   0.000000 -0.000617\n",
            "3   DecisionTree   0.046790  0.452258   0.992056  0.282804\n",
            "4   RandomForest   0.130105  0.335846   0.938575  0.604501\n",
            "5            SVR   0.305003  0.323764   0.662430  0.632445\n",
            "6  GradientBoost   0.371350  0.377060   0.499594  0.501474\n",
            "7        XGBoost   0.317961  0.326051   0.633136  0.627233\n",
            "8         Voting   0.306206  0.319815   0.659762  0.641357\n"
          ]
        }
      ]
    },
    {
      "cell_type": "markdown",
      "source": [
        "From this summary table, the top 3 models which show good performance (high r-square value) are SVR, Voting, and Linear. We do not prefer the Voting model because Voting is the combination of GradientBoost, SVR, and Linear regression. Nevertheless, we need to fine-tune hyperparameters on SVR & Voting model due to the combination, and we will fine-tune these parameters."
      ],
      "metadata": {
        "id": "BFUuk4ECQ7_q"
      }
    },
    {
      "cell_type": "markdown",
      "source": [
        "###**4.7 Assumptions on parametric models**"
      ],
      "metadata": {
        "id": "NRD0LVo1jXW4"
      }
    },
    {
      "cell_type": "markdown",
      "source": [
        "Parametric models need to follow some assumptions. For linear/ridge/lasso models, the residuals must be i.i.d with each other and follow a normal distribution. We will test whether these assumptions are satisfied based on our best-performance linear regression model."
      ],
      "metadata": {
        "id": "wnWJhD2xou3U"
      }
    },
    {
      "cell_type": "code",
      "source": [
        "from yellowbrick.regressor import ResidualsPlot\n",
        "visualizer = ResidualsPlot(lin_reg)\n",
        "\n",
        "visualizer.fit(train_set, train_set.log_price)  # Fit the training data to the visualizer\n",
        "visualizer.score(test_set, test_set.log_price)  # Evaluate the model on the test data\n",
        "visualizer.show() "
      ],
      "metadata": {
        "colab": {
          "base_uri": "https://localhost:8080/",
          "height": 394
        },
        "id": "F3IKbmk8pCHX",
        "outputId": "f3e266ca-2530-4973-eee3-f79f4d22c6a3"
      },
      "execution_count": null,
      "outputs": [
        {
          "output_type": "display_data",
          "data": {
            "text/plain": [
              "<Figure size 576x396 with 2 Axes>"
            ],
            "image/png": "[encoded data removed]"
          },
          "metadata": {}
        },
        {
          "output_type": "execute_result",
          "data": {
            "text/plain": [
              "<matplotlib.axes._subplots.AxesSubplot at 0x7efcf3d94370>"
            ]
          },
          "metadata": {},
          "execution_count": 75
        }
      ]
    },
    {
      "cell_type": "markdown",
      "source": [
        "###**4.8 Fine-tune parameters**"
      ],
      "metadata": {
        "id": "wDq9rcRH1UqG"
      }
    },
    {
      "cell_type": "markdown",
      "source": [
        "####**4.8.1 Grid Search**"
      ],
      "metadata": {
        "id": "_QPpAoT4gYCF"
      }
    },
    {
      "cell_type": "code",
      "source": [
        "full_pipeline = Pipeline([\n",
        "    ('preprocessing', preprocessing),\n",
        "    ('svm', SVR()),])\n"
      ],
      "metadata": {
        "id": "hgIk4CqrQ--R"
      },
      "execution_count": null,
      "outputs": []
    },
    {
      "cell_type": "code",
      "source": [
        "from sklearn.model_selection import GridSearchCV\n",
        "from sklearn.svm import SVR\n",
        "\n",
        "param_grid = [\n",
        "\n",
        "        {'svr__kernel': ['rbf'], 'svr__C': [1.0, 3.0, 10., 30., 100., 300.,\n",
        "                                            1000.0], 'svr__gamma': [0.01, 0.03, 0.1, 0.3, 1.0, 3.0]},\n",
        "    ]\n",
        "    \n",
        "\n",
        "svr_pipeline = Pipeline([(\"preprocessing\", preprocessing), (\"svr\", SVR())])\n",
        "grid_search = GridSearchCV(svr_pipeline, param_grid, cv=3,\n",
        "                           scoring='neg_root_mean_squared_error',n_jobs = -1)\n",
        " \n",
        "grid_search.fit(train_set[:1000], train_set.log_price[:1000])\n",
        "grid_search.best_params_"
      ],
      "metadata": {
        "colab": {
          "base_uri": "https://localhost:8080/"
        },
        "id": "ZBwI5Rq0Q_iv",
        "outputId": "504584ad-b8af-4b37-908d-9520f5460dd3"
      },
      "execution_count": null,
      "outputs": [
        {
          "output_type": "execute_result",
          "data": {
            "text/plain": [
              "{'svr__C': 3.0, 'svr__gamma': 0.01, 'svr__kernel': 'rbf'}"
            ]
          },
          "metadata": {},
          "execution_count": 63
        }
      ]
    },
    {
      "cell_type": "code",
      "source": [
        "reg_grid_cv_res = pd.DataFrame(grid_search.cv_results_)\n",
        "reg_grid_cv_res.sort_values(by=\"mean_test_score\", ascending=False, inplace=True)\n",
        "reg_grid_cv_res.filter(regex = '(^param_|mean_test_score)', axis=1)"
      ],
      "metadata": {
        "colab": {
          "base_uri": "https://localhost:8080/",
          "height": 1000
        },
        "id": "oIsn0h8lREjV",
        "outputId": "49836bdb-8fe4-437a-f227-7885865b3ac4"
      },
      "execution_count": null,
      "outputs": [
        {
          "output_type": "execute_result",
          "data": {
            "text/plain": [
              "   param_svr__C param_svr__gamma param_svr__kernel  mean_test_score\n",
              "6           3.0             0.01               rbf        -0.348870\n",
              "12         10.0             0.01               rbf        -0.351137\n",
              "1           1.0             0.03               rbf        -0.351383\n",
              "0           1.0             0.01               rbf        -0.352291\n",
              "7           3.0             0.03               rbf        -0.352859\n",
              "2           1.0              0.1               rbf        -0.356680\n",
              "18         30.0             0.01               rbf        -0.360212\n",
              "13         10.0             0.03               rbf        -0.362098\n",
              "8           3.0              0.1               rbf        -0.366637\n",
              "24        100.0             0.01               rbf        -0.369107\n",
              "19         30.0             0.03               rbf        -0.371272\n",
              "30        300.0             0.01               rbf        -0.378643\n",
              "3           1.0              0.3               rbf        -0.382996\n",
              "14         10.0              0.1               rbf        -0.389038\n",
              "25        100.0             0.03               rbf        -0.389584\n",
              "9           3.0              0.3               rbf        -0.397560\n",
              "36       1000.0             0.01               rbf        -0.399536\n",
              "20         30.0              0.1               rbf        -0.414074\n",
              "31        300.0             0.03               rbf        -0.416691\n",
              "15         10.0              0.3               rbf        -0.420113\n",
              "4           1.0              1.0               rbf        -0.434905\n",
              "10          3.0              1.0               rbf        -0.451566\n",
              "21         30.0              0.3               rbf        -0.455656\n",
              "26        100.0              0.1               rbf        -0.458765\n",
              "16         10.0              1.0               rbf        -0.478839\n",
              "5           1.0              3.0               rbf        -0.479770\n",
              "37       1000.0             0.03               rbf        -0.485415\n",
              "11          3.0              3.0               rbf        -0.491224\n",
              "17         10.0              3.0               rbf        -0.513094\n",
              "22         30.0              1.0               rbf        -0.513840\n",
              "32        300.0              0.1               rbf        -0.526498\n",
              "27        100.0              0.3               rbf        -0.542934\n",
              "23         30.0              3.0               rbf        -0.544347\n",
              "28        100.0              1.0               rbf        -0.566872\n",
              "29        100.0              3.0               rbf        -0.589966\n",
              "35        300.0              3.0               rbf        -0.636508\n",
              "38       1000.0              0.1               rbf        -0.645186\n",
              "34        300.0              1.0               rbf        -0.649806\n",
              "33        300.0              0.3               rbf        -0.657981\n",
              "41       1000.0              3.0               rbf        -0.695854\n",
              "40       1000.0              1.0               rbf        -0.769713\n",
              "39       1000.0              0.3               rbf        -0.810889"
            ],
            "text/html": [
              "\n",
              "  <div id=\"df-a9760ef1-f1ee-4ff2-9ab8-2a0cebc1f088\">\n",
              "    <div class=\"colab-df-container\">\n",
              "      <div>\n",
              "<style scoped>\n",
              "    .dataframe tbody tr th:only-of-type {\n",
              "        vertical-align: middle;\n",
              "    }\n",
              "\n",
              "    .dataframe tbody tr th {\n",
              "        vertical-align: top;\n",
              "    }\n",
              "\n",
              "    .dataframe thead th {\n",
              "        text-align: right;\n",
              "    }\n",
              "</style>\n",
              "<table border=\"1\" class=\"dataframe\">\n",
              "  <thead>\n",
              "    <tr style=\"text-align: right;\">\n",
              "      <th></th>\n",
              "      <th>param_svr__C</th>\n",
              "      <th>param_svr__gamma</th>\n",
              "      <th>param_svr__kernel</th>\n",
              "      <th>mean_test_score</th>\n",
              "    </tr>\n",
              "  </thead>\n",
              "  <tbody>\n",
              "    <tr>\n",
              "      <th>6</th>\n",
              "      <td>3.0</td>\n",
              "      <td>0.01</td>\n",
              "      <td>rbf</td>\n",
              "      <td>-0.348870</td>\n",
              "    </tr>\n",
              "    <tr>\n",
              "      <th>12</th>\n",
              "      <td>10.0</td>\n",
              "      <td>0.01</td>\n",
              "      <td>rbf</td>\n",
              "      <td>-0.351137</td>\n",
              "    </tr>\n",
              "    <tr>\n",
              "      <th>1</th>\n",
              "      <td>1.0</td>\n",
              "      <td>0.03</td>\n",
              "      <td>rbf</td>\n",
              "      <td>-0.351383</td>\n",
              "    </tr>\n",
              "    <tr>\n",
              "      <th>0</th>\n",
              "      <td>1.0</td>\n",
              "      <td>0.01</td>\n",
              "      <td>rbf</td>\n",
              "      <td>-0.352291</td>\n",
              "    </tr>\n",
              "    <tr>\n",
              "      <th>7</th>\n",
              "      <td>3.0</td>\n",
              "      <td>0.03</td>\n",
              "      <td>rbf</td>\n",
              "      <td>-0.352859</td>\n",
              "    </tr>\n",
              "    <tr>\n",
              "      <th>2</th>\n",
              "      <td>1.0</td>\n",
              "      <td>0.1</td>\n",
              "      <td>rbf</td>\n",
              "      <td>-0.356680</td>\n",
              "    </tr>\n",
              "    <tr>\n",
              "      <th>18</th>\n",
              "      <td>30.0</td>\n",
              "      <td>0.01</td>\n",
              "      <td>rbf</td>\n",
              "      <td>-0.360212</td>\n",
              "    </tr>\n",
              "    <tr>\n",
              "      <th>13</th>\n",
              "      <td>10.0</td>\n",
              "      <td>0.03</td>\n",
              "      <td>rbf</td>\n",
              "      <td>-0.362098</td>\n",
              "    </tr>\n",
              "    <tr>\n",
              "      <th>8</th>\n",
              "      <td>3.0</td>\n",
              "      <td>0.1</td>\n",
              "      <td>rbf</td>\n",
              "      <td>-0.366637</td>\n",
              "    </tr>\n",
              "    <tr>\n",
              "      <th>24</th>\n",
              "      <td>100.0</td>\n",
              "      <td>0.01</td>\n",
              "      <td>rbf</td>\n",
              "      <td>-0.369107</td>\n",
              "    </tr>\n",
              "    <tr>\n",
              "      <th>19</th>\n",
              "      <td>30.0</td>\n",
              "      <td>0.03</td>\n",
              "      <td>rbf</td>\n",
              "      <td>-0.371272</td>\n",
              "    </tr>\n",
              "    <tr>\n",
              "      <th>30</th>\n",
              "      <td>300.0</td>\n",
              "      <td>0.01</td>\n",
              "      <td>rbf</td>\n",
              "      <td>-0.378643</td>\n",
              "    </tr>\n",
              "    <tr>\n",
              "      <th>3</th>\n",
              "      <td>1.0</td>\n",
              "      <td>0.3</td>\n",
              "      <td>rbf</td>\n",
              "      <td>-0.382996</td>\n",
              "    </tr>\n",
              "    <tr>\n",
              "      <th>14</th>\n",
              "      <td>10.0</td>\n",
              "      <td>0.1</td>\n",
              "      <td>rbf</td>\n",
              "      <td>-0.389038</td>\n",
              "    </tr>\n",
              "    <tr>\n",
              "      <th>25</th>\n",
              "      <td>100.0</td>\n",
              "      <td>0.03</td>\n",
              "      <td>rbf</td>\n",
              "      <td>-0.389584</td>\n",
              "    </tr>\n",
              "    <tr>\n",
              "      <th>9</th>\n",
              "      <td>3.0</td>\n",
              "      <td>0.3</td>\n",
              "      <td>rbf</td>\n",
              "      <td>-0.397560</td>\n",
              "    </tr>\n",
              "    <tr>\n",
              "      <th>36</th>\n",
              "      <td>1000.0</td>\n",
              "      <td>0.01</td>\n",
              "      <td>rbf</td>\n",
              "      <td>-0.399536</td>\n",
              "    </tr>\n",
              "    <tr>\n",
              "      <th>20</th>\n",
              "      <td>30.0</td>\n",
              "      <td>0.1</td>\n",
              "      <td>rbf</td>\n",
              "      <td>-0.414074</td>\n",
              "    </tr>\n",
              "    <tr>\n",
              "      <th>31</th>\n",
              "      <td>300.0</td>\n",
              "      <td>0.03</td>\n",
              "      <td>rbf</td>\n",
              "      <td>-0.416691</td>\n",
              "    </tr>\n",
              "    <tr>\n",
              "      <th>15</th>\n",
              "      <td>10.0</td>\n",
              "      <td>0.3</td>\n",
              "      <td>rbf</td>\n",
              "      <td>-0.420113</td>\n",
              "    </tr>\n",
              "    <tr>\n",
              "      <th>4</th>\n",
              "      <td>1.0</td>\n",
              "      <td>1.0</td>\n",
              "      <td>rbf</td>\n",
              "      <td>-0.434905</td>\n",
              "    </tr>\n",
              "    <tr>\n",
              "      <th>10</th>\n",
              "      <td>3.0</td>\n",
              "      <td>1.0</td>\n",
              "      <td>rbf</td>\n",
              "      <td>-0.451566</td>\n",
              "    </tr>\n",
              "    <tr>\n",
              "      <th>21</th>\n",
              "      <td>30.0</td>\n",
              "      <td>0.3</td>\n",
              "      <td>rbf</td>\n",
              "      <td>-0.455656</td>\n",
              "    </tr>\n",
              "    <tr>\n",
              "      <th>26</th>\n",
              "      <td>100.0</td>\n",
              "      <td>0.1</td>\n",
              "      <td>rbf</td>\n",
              "      <td>-0.458765</td>\n",
              "    </tr>\n",
              "    <tr>\n",
              "      <th>16</th>\n",
              "      <td>10.0</td>\n",
              "      <td>1.0</td>\n",
              "      <td>rbf</td>\n",
              "      <td>-0.478839</td>\n",
              "    </tr>\n",
              "    <tr>\n",
              "      <th>5</th>\n",
              "      <td>1.0</td>\n",
              "      <td>3.0</td>\n",
              "      <td>rbf</td>\n",
              "      <td>-0.479770</td>\n",
              "    </tr>\n",
              "    <tr>\n",
              "      <th>37</th>\n",
              "      <td>1000.0</td>\n",
              "      <td>0.03</td>\n",
              "      <td>rbf</td>\n",
              "      <td>-0.485415</td>\n",
              "    </tr>\n",
              "    <tr>\n",
              "      <th>11</th>\n",
              "      <td>3.0</td>\n",
              "      <td>3.0</td>\n",
              "      <td>rbf</td>\n",
              "      <td>-0.491224</td>\n",
              "    </tr>\n",
              "    <tr>\n",
              "      <th>17</th>\n",
              "      <td>10.0</td>\n",
              "      <td>3.0</td>\n",
              "      <td>rbf</td>\n",
              "      <td>-0.513094</td>\n",
              "    </tr>\n",
              "    <tr>\n",
              "      <th>22</th>\n",
              "      <td>30.0</td>\n",
              "      <td>1.0</td>\n",
              "      <td>rbf</td>\n",
              "      <td>-0.513840</td>\n",
              "    </tr>\n",
              "    <tr>\n",
              "      <th>32</th>\n",
              "      <td>300.0</td>\n",
              "      <td>0.1</td>\n",
              "      <td>rbf</td>\n",
              "      <td>-0.526498</td>\n",
              "    </tr>\n",
              "    <tr>\n",
              "      <th>27</th>\n",
              "      <td>100.0</td>\n",
              "      <td>0.3</td>\n",
              "      <td>rbf</td>\n",
              "      <td>-0.542934</td>\n",
              "    </tr>\n",
              "    <tr>\n",
              "      <th>23</th>\n",
              "      <td>30.0</td>\n",
              "      <td>3.0</td>\n",
              "      <td>rbf</td>\n",
              "      <td>-0.544347</td>\n",
              "    </tr>\n",
              "    <tr>\n",
              "      <th>28</th>\n",
              "      <td>100.0</td>\n",
              "      <td>1.0</td>\n",
              "      <td>rbf</td>\n",
              "      <td>-0.566872</td>\n",
              "    </tr>\n",
              "    <tr>\n",
              "      <th>29</th>\n",
              "      <td>100.0</td>\n",
              "      <td>3.0</td>\n",
              "      <td>rbf</td>\n",
              "      <td>-0.589966</td>\n",
              "    </tr>\n",
              "    <tr>\n",
              "      <th>35</th>\n",
              "      <td>300.0</td>\n",
              "      <td>3.0</td>\n",
              "      <td>rbf</td>\n",
              "      <td>-0.636508</td>\n",
              "    </tr>\n",
              "    <tr>\n",
              "      <th>38</th>\n",
              "      <td>1000.0</td>\n",
              "      <td>0.1</td>\n",
              "      <td>rbf</td>\n",
              "      <td>-0.645186</td>\n",
              "    </tr>\n",
              "    <tr>\n",
              "      <th>34</th>\n",
              "      <td>300.0</td>\n",
              "      <td>1.0</td>\n",
              "      <td>rbf</td>\n",
              "      <td>-0.649806</td>\n",
              "    </tr>\n",
              "    <tr>\n",
              "      <th>33</th>\n",
              "      <td>300.0</td>\n",
              "      <td>0.3</td>\n",
              "      <td>rbf</td>\n",
              "      <td>-0.657981</td>\n",
              "    </tr>\n",
              "    <tr>\n",
              "      <th>41</th>\n",
              "      <td>1000.0</td>\n",
              "      <td>3.0</td>\n",
              "      <td>rbf</td>\n",
              "      <td>-0.695854</td>\n",
              "    </tr>\n",
              "    <tr>\n",
              "      <th>40</th>\n",
              "      <td>1000.0</td>\n",
              "      <td>1.0</td>\n",
              "      <td>rbf</td>\n",
              "      <td>-0.769713</td>\n",
              "    </tr>\n",
              "    <tr>\n",
              "      <th>39</th>\n",
              "      <td>1000.0</td>\n",
              "      <td>0.3</td>\n",
              "      <td>rbf</td>\n",
              "      <td>-0.810889</td>\n",
              "    </tr>\n",
              "  </tbody>\n",
              "</table>\n",
              "</div>\n",
              "      <button class=\"colab-df-convert\" onclick=\"convertToInteractive('df-a9760ef1-f1ee-4ff2-9ab8-2a0cebc1f088')\"\n",
              "              title=\"Convert this dataframe to an interactive table.\"\n",
              "              style=\"display:none;\">\n",
              "        \n",
              "  <svg xmlns=\"http://www.w3.org/2000/svg\" height=\"24px\"viewBox=\"0 0 24 24\"\n",
              "       width=\"24px\">\n",
              "    <path d=\"M0 0h24v24H0V0z\" fill=\"none\"/>\n",
              "    <path d=\"M18.56 5.44l.94 2.06.94-2.06 2.06-.94-2.06-.94-.94-2.06-.94 2.06-2.06.94zm-11 1L8.5 8.5l.94-2.06 2.06-.94-2.06-.94L8.5 2.5l-.94 2.06-2.06.94zm10 10l.94 2.06.94-2.06 2.06-.94-2.06-.94-.94-2.06-.94 2.06-2.06.94z\"/><path d=\"M17.41 7.96l-1.37-1.37c-.4-.4-.92-.59-1.43-.59-.52 0-1.04.2-1.43.59L10.3 9.45l-7.72 7.72c-.78.78-.78 2.05 0 2.83L4 21.41c.39.39.9.59 1.41.59.51 0 1.02-.2 1.41-.59l7.78-7.78 2.81-2.81c.8-.78.8-2.07 0-2.86zM5.41 20L4 18.59l7.72-7.72 1.47 1.35L5.41 20z\"/>\n",
              "  </svg>\n",
              "      </button>\n",
              "      \n",
              "  <style>\n",
              "    .colab-df-container {\n",
              "      display:flex;\n",
              "      flex-wrap:wrap;\n",
              "      gap: 12px;\n",
              "    }\n",
              "\n",
              "    .colab-df-convert {\n",
              "      background-color: #E8F0FE;\n",
              "      border: none;\n",
              "      border-radius: 50%;\n",
              "      cursor: pointer;\n",
              "      display: none;\n",
              "      fill: #1967D2;\n",
              "      height: 32px;\n",
              "      padding: 0 0 0 0;\n",
              "      width: 32px;\n",
              "    }\n",
              "\n",
              "    .colab-df-convert:hover {\n",
              "      background-color: #E2EBFA;\n",
              "      box-shadow: 0px 1px 2px rgba(60, 64, 67, 0.3), 0px 1px 3px 1px rgba(60, 64, 67, 0.15);\n",
              "      fill: #174EA6;\n",
              "    }\n",
              "\n",
              "    [theme=dark] .colab-df-convert {\n",
              "      background-color: #3B4455;\n",
              "      fill: #D2E3FC;\n",
              "    }\n",
              "\n",
              "    [theme=dark] .colab-df-convert:hover {\n",
              "      background-color: #434B5C;\n",
              "      box-shadow: 0px 1px 3px 1px rgba(0, 0, 0, 0.15);\n",
              "      filter: drop-shadow(0px 1px 2px rgba(0, 0, 0, 0.3));\n",
              "      fill: #FFFFFF;\n",
              "    }\n",
              "  </style>\n",
              "\n",
              "      <script>\n",
              "        const buttonEl =\n",
              "          document.querySelector('#df-a9760ef1-f1ee-4ff2-9ab8-2a0cebc1f088 button.colab-df-convert');\n",
              "        buttonEl.style.display =\n",
              "          google.colab.kernel.accessAllowed ? 'block' : 'none';\n",
              "\n",
              "        async function convertToInteractive(key) {\n",
              "          const element = document.querySelector('#df-a9760ef1-f1ee-4ff2-9ab8-2a0cebc1f088');\n",
              "          const dataTable =\n",
              "            await google.colab.kernel.invokeFunction('convertToInteractive',\n",
              "                                                     [key], {});\n",
              "          if (!dataTable) return;\n",
              "\n",
              "          const docLinkHtml = 'Like what you see? Visit the ' +\n",
              "            '<a target=\"_blank\" href=https://colab.research.google.com/notebooks/data_table.ipynb>data table notebook</a>'\n",
              "            + ' to learn more about interactive tables.';\n",
              "          element.innerHTML = '';\n",
              "          dataTable['output_type'] = 'display_data';\n",
              "          await google.colab.output.renderOutput(dataTable, element);\n",
              "          const docLink = document.createElement('div');\n",
              "          docLink.innerHTML = docLinkHtml;\n",
              "          element.appendChild(docLink);\n",
              "        }\n",
              "      </script>\n",
              "    </div>\n",
              "  </div>\n",
              "  "
            ]
          },
          "metadata": {},
          "execution_count": 64
        }
      ]
    },
    {
      "cell_type": "code",
      "source": [
        "svr_reg2 = make_pipeline(preprocessing,\n",
        "                           SVR(kernel=\"rbf\",gamma = 0.01,C = 3.0))\n",
        "svr_reg2.fit(train_set,train_set.log_price)\n",
        "housing_svr2_predictions = svr_reg2.predict(train_set)\n",
        "svr2_rmse = mean_squared_error(train_set.log_price, housing_svr2_predictions, squared=False)\n",
        "print('Training data error {:.8f}'.format(svr2_rmse))\n",
        "\n",
        "housing_svr2_predictions_test = svr_reg2.predict(test_set)\n",
        "svr2_test_rmses = mean_squared_error(test_set.log_price,housing_svr2_predictions_test,\n",
        "                              squared = False)\n",
        "print('Test data error {:.8f}'.format(svr_test_rmses))\n",
        "\n",
        "r2_svr2_value = r2_score(train_set.log_price, housing_svr2_predictions)\n",
        "print('R^2 value is {:.8f}'.format(r2_svr2_value))\n",
        "r2_svr2_value_test = r2_score(test_set.log_price, housing_svr2_predictions_test)\n",
        "print('test R^2 value is {:.8f}'.format(r2_svr2_value_test))"
      ],
      "metadata": {
        "colab": {
          "base_uri": "https://localhost:8080/"
        },
        "id": "e8pK-aY8RHgG",
        "outputId": "e30cf1b4-2ed7-4e2d-cf45-87387f857c62"
      },
      "execution_count": null,
      "outputs": [
        {
          "output_type": "stream",
          "name": "stdout",
          "text": [
            "Training data error 0.31976451\n",
            "Test data error 0.32376384\n",
            "R^2 value is 0.62896383\n",
            "test R^2 value is 0.63330391\n"
          ]
        }
      ]
    },
    {
      "cell_type": "markdown",
      "source": [
        "The final result is 0.3237 on the testing set, which is almost identical to the original SVM model. We can find that the $R^2$ value here is lower than the original SVR model on the training dataset. The reason why $R^2$ is lower is that we reduce the entries. To be more specific, we only use 1000 entries to fit our data, and we will explain more details in the below challenge part. Nevertheless, the original result is similar with hyper tune data which is good news for us because the similar results mean our models are optimal. All in all, the SVR model has the highest performance among the three models(Linear regression, SVR, and HistGradientBoostingRegressor) in predicting house price changes under the different variables."
      ],
      "metadata": {
        "id": "-DlIYGZl1lm7"
      }
    },
    {
      "cell_type": "markdown",
      "source": [
        "####**4.8.2 Halving Grid Search**"
      ],
      "metadata": {
        "id": "6Kvp-4gnjJoV"
      }
    },
    {
      "cell_type": "code",
      "source": [
        "from sklearn.experimental import enable_halving_search_cv\n",
        "from sklearn.model_selection import HalvingGridSearchCV\n",
        "\n",
        "param_grid2 = [ \n",
        "    {'svr__C': np.logspace(-3, 3, 4), \n",
        "     'svr__gamma': np.logspace(-2, 2, 5)\n",
        "     }, \n",
        "    ]\n",
        "svr_pipeline = Pipeline([(\"preprocessing\", preprocessing), (\"svr\", SVR())])\n",
        "# Change to Halving strategy starting here\n",
        "halving_grid_search = HalvingGridSearchCV(svr_pipeline, param_grid2, cv=3, \n",
        "                                    min_resources='exhaust', # use all data in the last round, back calculate to determine how much to start with\n",
        "                                    scoring='neg_root_mean_squared_error')\n",
        "halving_grid_search.fit(train_set, train_set.log_price)\n",
        "print('The best parameters are ', halving_grid_search.best_params_)"
      ],
      "metadata": {
        "colab": {
          "base_uri": "https://localhost:8080/"
        },
        "id": "VVR-ecWBhrQZ",
        "outputId": "d60a2abc-cdbe-4e5f-885b-834928fc1308"
      },
      "execution_count": null,
      "outputs": [
        {
          "output_type": "stream",
          "name": "stdout",
          "text": [
            "The best parameters are  {'svr__C': 10.0, 'svr__gamma': 0.01}\n"
          ]
        }
      ]
    },
    {
      "cell_type": "code",
      "source": [
        "hal_grid_cv_res = pd.DataFrame(halving_grid_search.cv_results_)\n",
        "hal_grid_cv_res.sort_values(by=\"mean_test_score\", ascending=False, inplace=True)\n",
        "hal_grid_cv_res.filter(regex = '(^param_|mean_test_score)', axis=1).head()"
      ],
      "metadata": {
        "colab": {
          "base_uri": "https://localhost:8080/",
          "height": 206
        },
        "id": "6nDZWGGjhwdV",
        "outputId": "af668b36-f369-4602-d947-47245ae37994"
      },
      "execution_count": null,
      "outputs": [
        {
          "output_type": "execute_result",
          "data": {
            "text/plain": [
              "   param_svr__C param_svr__gamma  mean_test_score\n",
              "29         10.0             0.01        -0.321892\n",
              "10         10.0             0.01        -0.324842\n",
              "28          0.1              0.1        -0.324982\n",
              "26         10.0             0.01        -0.325860\n",
              "27       1000.0             0.01        -0.328457"
            ],
            "text/html": [
              "\n",
              "  <div id=\"df-03f3fa1f-7f55-4015-aba9-667afc25af23\">\n",
              "    <div class=\"colab-df-container\">\n",
              "      <div>\n",
              "<style scoped>\n",
              "    .dataframe tbody tr th:only-of-type {\n",
              "        vertical-align: middle;\n",
              "    }\n",
              "\n",
              "    .dataframe tbody tr th {\n",
              "        vertical-align: top;\n",
              "    }\n",
              "\n",
              "    .dataframe thead th {\n",
              "        text-align: right;\n",
              "    }\n",
              "</style>\n",
              "<table border=\"1\" class=\"dataframe\">\n",
              "  <thead>\n",
              "    <tr style=\"text-align: right;\">\n",
              "      <th></th>\n",
              "      <th>param_svr__C</th>\n",
              "      <th>param_svr__gamma</th>\n",
              "      <th>mean_test_score</th>\n",
              "    </tr>\n",
              "  </thead>\n",
              "  <tbody>\n",
              "    <tr>\n",
              "      <th>29</th>\n",
              "      <td>10.0</td>\n",
              "      <td>0.01</td>\n",
              "      <td>-0.321892</td>\n",
              "    </tr>\n",
              "    <tr>\n",
              "      <th>10</th>\n",
              "      <td>10.0</td>\n",
              "      <td>0.01</td>\n",
              "      <td>-0.324842</td>\n",
              "    </tr>\n",
              "    <tr>\n",
              "      <th>28</th>\n",
              "      <td>0.1</td>\n",
              "      <td>0.1</td>\n",
              "      <td>-0.324982</td>\n",
              "    </tr>\n",
              "    <tr>\n",
              "      <th>26</th>\n",
              "      <td>10.0</td>\n",
              "      <td>0.01</td>\n",
              "      <td>-0.325860</td>\n",
              "    </tr>\n",
              "    <tr>\n",
              "      <th>27</th>\n",
              "      <td>1000.0</td>\n",
              "      <td>0.01</td>\n",
              "      <td>-0.328457</td>\n",
              "    </tr>\n",
              "  </tbody>\n",
              "</table>\n",
              "</div>\n",
              "      <button class=\"colab-df-convert\" onclick=\"convertToInteractive('df-03f3fa1f-7f55-4015-aba9-667afc25af23')\"\n",
              "              title=\"Convert this dataframe to an interactive table.\"\n",
              "              style=\"display:none;\">\n",
              "        \n",
              "  <svg xmlns=\"http://www.w3.org/2000/svg\" height=\"24px\"viewBox=\"0 0 24 24\"\n",
              "       width=\"24px\">\n",
              "    <path d=\"M0 0h24v24H0V0z\" fill=\"none\"/>\n",
              "    <path d=\"M18.56 5.44l.94 2.06.94-2.06 2.06-.94-2.06-.94-.94-2.06-.94 2.06-2.06.94zm-11 1L8.5 8.5l.94-2.06 2.06-.94-2.06-.94L8.5 2.5l-.94 2.06-2.06.94zm10 10l.94 2.06.94-2.06 2.06-.94-2.06-.94-.94-2.06-.94 2.06-2.06.94z\"/><path d=\"M17.41 7.96l-1.37-1.37c-.4-.4-.92-.59-1.43-.59-.52 0-1.04.2-1.43.59L10.3 9.45l-7.72 7.72c-.78.78-.78 2.05 0 2.83L4 21.41c.39.39.9.59 1.41.59.51 0 1.02-.2 1.41-.59l7.78-7.78 2.81-2.81c.8-.78.8-2.07 0-2.86zM5.41 20L4 18.59l7.72-7.72 1.47 1.35L5.41 20z\"/>\n",
              "  </svg>\n",
              "      </button>\n",
              "      \n",
              "  <style>\n",
              "    .colab-df-container {\n",
              "      display:flex;\n",
              "      flex-wrap:wrap;\n",
              "      gap: 12px;\n",
              "    }\n",
              "\n",
              "    .colab-df-convert {\n",
              "      background-color: #E8F0FE;\n",
              "      border: none;\n",
              "      border-radius: 50%;\n",
              "      cursor: pointer;\n",
              "      display: none;\n",
              "      fill: #1967D2;\n",
              "      height: 32px;\n",
              "      padding: 0 0 0 0;\n",
              "      width: 32px;\n",
              "    }\n",
              "\n",
              "    .colab-df-convert:hover {\n",
              "      background-color: #E2EBFA;\n",
              "      box-shadow: 0px 1px 2px rgba(60, 64, 67, 0.3), 0px 1px 3px 1px rgba(60, 64, 67, 0.15);\n",
              "      fill: #174EA6;\n",
              "    }\n",
              "\n",
              "    [theme=dark] .colab-df-convert {\n",
              "      background-color: #3B4455;\n",
              "      fill: #D2E3FC;\n",
              "    }\n",
              "\n",
              "    [theme=dark] .colab-df-convert:hover {\n",
              "      background-color: #434B5C;\n",
              "      box-shadow: 0px 1px 3px 1px rgba(0, 0, 0, 0.15);\n",
              "      filter: drop-shadow(0px 1px 2px rgba(0, 0, 0, 0.3));\n",
              "      fill: #FFFFFF;\n",
              "    }\n",
              "  </style>\n",
              "\n",
              "      <script>\n",
              "        const buttonEl =\n",
              "          document.querySelector('#df-03f3fa1f-7f55-4015-aba9-667afc25af23 button.colab-df-convert');\n",
              "        buttonEl.style.display =\n",
              "          google.colab.kernel.accessAllowed ? 'block' : 'none';\n",
              "\n",
              "        async function convertToInteractive(key) {\n",
              "          const element = document.querySelector('#df-03f3fa1f-7f55-4015-aba9-667afc25af23');\n",
              "          const dataTable =\n",
              "            await google.colab.kernel.invokeFunction('convertToInteractive',\n",
              "                                                     [key], {});\n",
              "          if (!dataTable) return;\n",
              "\n",
              "          const docLinkHtml = 'Like what you see? Visit the ' +\n",
              "            '<a target=\"_blank\" href=https://colab.research.google.com/notebooks/data_table.ipynb>data table notebook</a>'\n",
              "            + ' to learn more about interactive tables.';\n",
              "          element.innerHTML = '';\n",
              "          dataTable['output_type'] = 'display_data';\n",
              "          await google.colab.output.renderOutput(dataTable, element);\n",
              "          const docLink = document.createElement('div');\n",
              "          docLink.innerHTML = docLinkHtml;\n",
              "          element.appendChild(docLink);\n",
              "        }\n",
              "      </script>\n",
              "    </div>\n",
              "  </div>\n",
              "  "
            ]
          },
          "metadata": {},
          "execution_count": 73
        }
      ]
    },
    {
      "cell_type": "code",
      "source": [
        "svr_reg3 = make_pipeline(preprocessing,\n",
        "                           SVR(kernel=\"rbf\",gamma = 0.01,C = 10.0))\n",
        "svr_reg3.fit(train_set,train_set.log_price)\n",
        "housing_svr3_predictions = svr_reg3.predict(train_set)\n",
        "svr3_rmse = mean_squared_error(train_set.log_price, housing_svr3_predictions, squared=False)\n",
        "print('Training data error {:.8f}'.format(svr3_rmse))\n",
        "\n",
        "housing_svr3_predictions_test = svr_reg3.predict(test_set)\n",
        "svr3_test_rmses = mean_squared_error(test_set.log_price,housing_svr3_predictions_test,\n",
        "                              squared = False)\n",
        "print('Test data error {:.8f}'.format(svr3_test_rmses))\n",
        "\n",
        "r2_svr3_value = r2_score(train_set.log_price, housing_svr3_predictions)\n",
        "print('R^2 value is {:.8f}'.format(r2_svr3_value))\n",
        "r2_svr3_value_test = r2_score(test_set.log_price, housing_svr3_predictions_test)\n",
        "print('test R^2 value is {:.8f}'.format(r2_svr3_value_test))"
      ],
      "metadata": {
        "colab": {
          "base_uri": "https://localhost:8080/"
        },
        "id": "rNvdm-X6hy0T",
        "outputId": "975fe03f-7686-4fb2-de53-e26131f33966"
      },
      "execution_count": null,
      "outputs": [
        {
          "output_type": "stream",
          "name": "stdout",
          "text": [
            "Training data error 0.31746540\n",
            "Test data error 0.32220644\n",
            "R^2 value is 0.63428017\n",
            "test R^2 value is 0.63597240\n"
          ]
        }
      ]
    },
    {
      "cell_type": "markdown",
      "source": [
        "Based on our result in halving grid search,we are able to train the whole training set. The halving grid search gives a result of C=10 and gamma = 0.01.  This time,we get a higher $R^2$ value and lower mean squared error on the testing dataset, suggesting that halving grid search generally improves the performance of the SVR model."
      ],
      "metadata": {
        "id": "NFhH70wIh8sl"
      }
    },
    {
      "cell_type": "markdown",
      "source": [
        "#**Part 5. Challenges & Summary**"
      ],
      "metadata": {
        "id": "4y47rRiyr5yj"
      }
    },
    {
      "cell_type": "markdown",
      "metadata": {
        "id": "t-0BQdImSoJR"
      },
      "source": [
        "####**5.1 Challenges**"
      ]
    },
    {
      "cell_type": "markdown",
      "source": [
        "\n",
        "When we tried to run regression models, we experienced an unexpected challenge: the highly long process time of fine-tuning the SVR model. We tried 10000 entries the first time, which did not work, but it took around 30 minutes, and we still did not have a solution due to the dataset size. We recalled that Professor Sahoo mentioned in the labs that the SVR model does have this problem, and we could choose 5,000 entries to reduce the work of the model. However, the SVR model still could not produce a solution. Thus, we finally agreed on using 1,000 instead of 5,000 entries and reduced the parameters in the grid search simultaneously. In the end, the code went through, and the results suggest that when the kernel equals rbf, svr_c equals 3.0, and svr_gamma equals 0.01, the model fits the dataset the most and can give the best accurate predictions.\n",
        "\n",
        "\n",
        "Furthermore, we also find that having grid search has less running time than grid search and that is the reason why we also use having grid search in hyperparameter selection section. Moreover, in the colab, we select 'runtime' and runtime type. The option named change hardware accelerator to GPU can also save time."
      ],
      "metadata": {
        "id": "BYgddYJvgX0w"
      }
    },
    {
      "cell_type": "markdown",
      "source": [
        "####**5.2 Summary and Conclusion**\n"
      ],
      "metadata": {
        "id": "q5bmFtpXgTXG"
      }
    },
    {
      "cell_type": "markdown",
      "source": [
        "To sum up, we have run the eight regression models, including Linear regression, Ridge regression, Lasso regression, DecisionTree regression, RandomForest regression, SVR, GradientBoost, XGBoost, and Voting, to predict the King County (Washington) house price changes. From the summary table, we found the top 3 models which show good performance (high r-square value) are SVR, Voting, and Linear. We do not prefer the Voting model because Voting is the combination of GradientBoost, SVR and Linear regression. We did fine-tuning on hyperparameters on SVR & Voting model due to the combination. After fine-tuning, we prefer SVR because of its highest performance among all eight models. The train and test data errors do not have significant differences, which means that the model's performance is good. The r-square value of the SVR model is 0.66, which demonstrates that the y variable(price) can be explained by x variables(`bedrooms`, `bathrooms`, `sqft_living`,\n",
        "`sqft_above`,`sqft_basement`, `sqft_living15`, `floors`, `waterfront`, `view`, `grade`). Moreover, based on our result in halving the grid search, we can train the whole training set and get a higher R^2 value and lower mean squared error on the testing dataset. It indicates that halving grid search generally improve the performance of the SVR model.\n",
        "\n"
      ],
      "metadata": {
        "id": "mSUMBpO3gVhH"
      }
    },
    {
      "cell_type": "markdown",
      "source": [
        "After finishing the project, we learned how to train and test data in different regression models. Furthermore, we also know that standardized data is essential before running models because standardizing data can bring all the data to a standard scale without distorting the differences in the range of the values. Moreover, we think the most valuable experience is handling challenges when doing the project because we may also face obstacles in future work. That the large size of the dataset can bring some excessive data loading, and how to reduce the data load and choose the valuable parameters are the best solutions that can help us in future decision-making."
      ],
      "metadata": {
        "id": "aNOPEFSJbmDE"
      }
    },
    {
      "cell_type": "markdown",
      "source": [
        "#**Part 6. References**"
      ],
      "metadata": {
        "id": "fi8rlU8DLxmO"
      }
    },
    {
      "cell_type": "markdown",
      "source": [
        "https://www.kaggle.com/datasets/harlfoxem/housesalesprediction \n",
        "\n",
        "https://www.kaggle.com/code/burhanykiyakoglu/predicting-house-prices/data\n",
        "\n",
        "https://www.washington.edu/news/2014/05/12/washington-housing-market-weaker-in-first-quarter-of-2014/\n",
        "\n",
        "https://rapidminer.com/blog/validate-models-training-test-error/\n",
        "\n",
        "https://statisticsbyjim.com/regression/interpret-r-squared-regression/"
      ],
      "metadata": {
        "id": "QBig0VMDMEbm"
      }
    }
  ],
  "metadata": {
    "colab": {
      "provenance": [],
      "collapsed_sections": [
        "PaEaebxIwruc",
        "iRZ2x3fyJmaK",
        "SohK9purJ4cJ"
      ]
    },
    "kernelspec": {
      "display_name": "Python 3",
      "name": "python3"
    },
    "language_info": {
      "name": "python"
    }
  },
  "nbformat": 4,
  "nbformat_minor": 0
}